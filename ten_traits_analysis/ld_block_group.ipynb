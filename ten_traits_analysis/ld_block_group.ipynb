{
 "cells": [
  {
   "cell_type": "code",
   "execution_count": 1,
   "id": "1f547f83",
   "metadata": {},
   "outputs": [
    {
     "data": {
      "text/html": [
       "'/import/home/share/zw/HSS'"
      ],
      "text/latex": [
       "'/import/home/share/zw/HSS'"
      ],
      "text/markdown": [
       "'/import/home/share/zw/HSS'"
      ],
      "text/plain": [
       "[1] \"/import/home/share/zw/HSS\""
      ]
     },
     "metadata": {},
     "output_type": "display_data"
    }
   ],
   "source": [
    "setwd(\"/import/home/share/zw/HSS\")\n",
    "getwd()"
   ]
  },
  {
   "cell_type": "code",
   "execution_count": 2,
   "id": "c8b3cac6",
   "metadata": {},
   "outputs": [
    {
     "name": "stderr",
     "output_type": "stream",
     "text": [
      "Loading required package: tidyverse\n",
      "\n",
      "── \u001b[1mAttaching packages\u001b[22m ─────────────────────────────────────── tidyverse 1.3.1 ──\n",
      "\n",
      "\u001b[32m✔\u001b[39m \u001b[34mggplot2\u001b[39m 3.3.5     \u001b[32m✔\u001b[39m \u001b[34mpurrr  \u001b[39m 0.3.4\n",
      "\u001b[32m✔\u001b[39m \u001b[34mtibble \u001b[39m 3.1.6     \u001b[32m✔\u001b[39m \u001b[34mdplyr  \u001b[39m 1.0.7\n",
      "\u001b[32m✔\u001b[39m \u001b[34mtidyr  \u001b[39m 1.1.4     \u001b[32m✔\u001b[39m \u001b[34mstringr\u001b[39m 1.4.0\n",
      "\u001b[32m✔\u001b[39m \u001b[34mreadr  \u001b[39m 2.1.1     \u001b[32m✔\u001b[39m \u001b[34mforcats\u001b[39m 0.5.1\n",
      "\n",
      "── \u001b[1mConflicts\u001b[22m ────────────────────────────────────────── tidyverse_conflicts() ──\n",
      "\u001b[31m✖\u001b[39m \u001b[34mdplyr\u001b[39m::\u001b[32mfilter()\u001b[39m masks \u001b[34mstats\u001b[39m::filter()\n",
      "\u001b[31m✖\u001b[39m \u001b[34mdplyr\u001b[39m::\u001b[32mlag()\u001b[39m    masks \u001b[34mstats\u001b[39m::lag()\n",
      "\n",
      "Loading required package: genio\n",
      "\n"
     ]
    }
   ],
   "source": [
    "# install.packages(\"devtools\")\n",
    "# devtools::install_github(\"statwangz/HSS\")\n",
    "library(HSS)"
   ]
  },
  {
   "cell_type": "code",
   "execution_count": 3,
   "id": "0120fd81",
   "metadata": {},
   "outputs": [
    {
     "data": {
      "text/html": [
       "<table class=\"dataframe\">\n",
       "<caption>A tibble: 6 × 3</caption>\n",
       "<thead>\n",
       "\t<tr><th scope=col>chr</th><th scope=col>start</th><th scope=col>stop</th></tr>\n",
       "\t<tr><th scope=col>&lt;chr&gt;</th><th scope=col>&lt;int&gt;</th><th scope=col>&lt;int&gt;</th></tr>\n",
       "</thead>\n",
       "<tbody>\n",
       "\t<tr><td>chr1 </td><td>  10583</td><td>1892607</td></tr>\n",
       "\t<tr><td>chr1 </td><td>1892607</td><td>3582736</td></tr>\n",
       "\t<tr><td>chr1 </td><td>3582736</td><td>4380811</td></tr>\n",
       "\t<tr><td>chr1 </td><td>4380811</td><td>5913893</td></tr>\n",
       "\t<tr><td>chr1 </td><td>5913893</td><td>7247335</td></tr>\n",
       "\t<tr><td>chr1 </td><td>7247335</td><td>9365199</td></tr>\n",
       "</tbody>\n",
       "</table>\n"
      ],
      "text/latex": [
       "A tibble: 6 × 3\n",
       "\\begin{tabular}{lll}\n",
       " chr & start & stop\\\\\n",
       " <chr> & <int> & <int>\\\\\n",
       "\\hline\n",
       "\t chr1  &   10583 & 1892607\\\\\n",
       "\t chr1  & 1892607 & 3582736\\\\\n",
       "\t chr1  & 3582736 & 4380811\\\\\n",
       "\t chr1  & 4380811 & 5913893\\\\\n",
       "\t chr1  & 5913893 & 7247335\\\\\n",
       "\t chr1  & 7247335 & 9365199\\\\\n",
       "\\end{tabular}\n"
      ],
      "text/markdown": [
       "\n",
       "A tibble: 6 × 3\n",
       "\n",
       "| chr &lt;chr&gt; | start &lt;int&gt; | stop &lt;int&gt; |\n",
       "|---|---|---|\n",
       "| chr1  |   10583 | 1892607 |\n",
       "| chr1  | 1892607 | 3582736 |\n",
       "| chr1  | 3582736 | 4380811 |\n",
       "| chr1  | 4380811 | 5913893 |\n",
       "| chr1  | 5913893 | 7247335 |\n",
       "| chr1  | 7247335 | 9365199 |\n",
       "\n"
      ],
      "text/plain": [
       "  chr   start   stop   \n",
       "1 chr1    10583 1892607\n",
       "2 chr1  1892607 3582736\n",
       "3 chr1  3582736 4380811\n",
       "4 chr1  4380811 5913893\n",
       "5 chr1  5913893 7247335\n",
       "6 chr1  7247335 9365199"
      ]
     },
     "metadata": {},
     "output_type": "display_data"
    }
   ],
   "source": [
    "# reference genotypes data file\n",
    "ref_file <- \"1000G.EUR.QC.hm3.ind\"\n",
    "\n",
    "# LD block data\n",
    "head(block)"
   ]
  },
  {
   "cell_type": "code",
   "execution_count": 4,
   "id": "a7b96065",
   "metadata": {},
   "outputs": [
    {
     "name": "stderr",
     "output_type": "stream",
     "text": [
      "Reading: 1000G.EUR.QC.hm3.ind.bim\n",
      "\n",
      "Reading: 1000G.EUR.QC.hm3.ind.fam\n",
      "\n",
      "Reading: 1000G.EUR.QC.hm3.ind.bed\n",
      "\n"
     ]
    },
    {
     "data": {
      "text/html": [
       "<table class=\"dataframe\">\n",
       "<caption>A tibble: 6 × 2</caption>\n",
       "<thead>\n",
       "\t<tr><th scope=col>SNP</th><th scope=col>GROUP</th></tr>\n",
       "\t<tr><th scope=col>&lt;chr&gt;</th><th scope=col>&lt;dbl&gt;</th></tr>\n",
       "</thead>\n",
       "<tbody>\n",
       "\t<tr><td>rs12565286</td><td>1</td></tr>\n",
       "\t<tr><td>rs3094315 </td><td>1</td></tr>\n",
       "\t<tr><td>rs3131972 </td><td>1</td></tr>\n",
       "\t<tr><td>rs3115860 </td><td>1</td></tr>\n",
       "\t<tr><td>rs3131969 </td><td>1</td></tr>\n",
       "\t<tr><td>rs3131967 </td><td>1</td></tr>\n",
       "</tbody>\n",
       "</table>\n"
      ],
      "text/latex": [
       "A tibble: 6 × 2\n",
       "\\begin{tabular}{ll}\n",
       " SNP & GROUP\\\\\n",
       " <chr> & <dbl>\\\\\n",
       "\\hline\n",
       "\t rs12565286 & 1\\\\\n",
       "\t rs3094315  & 1\\\\\n",
       "\t rs3131972  & 1\\\\\n",
       "\t rs3115860  & 1\\\\\n",
       "\t rs3131969  & 1\\\\\n",
       "\t rs3131967  & 1\\\\\n",
       "\\end{tabular}\n"
      ],
      "text/markdown": [
       "\n",
       "A tibble: 6 × 2\n",
       "\n",
       "| SNP &lt;chr&gt; | GROUP &lt;dbl&gt; |\n",
       "|---|---|\n",
       "| rs12565286 | 1 |\n",
       "| rs3094315  | 1 |\n",
       "| rs3131972  | 1 |\n",
       "| rs3115860  | 1 |\n",
       "| rs3131969  | 1 |\n",
       "| rs3131967  | 1 |\n",
       "\n"
      ],
      "text/plain": [
       "  SNP        GROUP\n",
       "1 rs12565286 1    \n",
       "2 rs3094315  1    \n",
       "3 rs3131972  1    \n",
       "4 rs3115860  1    \n",
       "5 rs3131969  1    \n",
       "6 rs3131967  1    "
      ]
     },
     "metadata": {},
     "output_type": "display_data"
    }
   ],
   "source": [
    "# group the SNPs using LD block data\n",
    "snp_group <- ld_block_group(ref_file, snp_col = \"id\", pos_col = \"pos\")\n",
    "head(snp_group)"
   ]
  },
  {
   "cell_type": "code",
   "execution_count": 5,
   "id": "cb9c2c3a",
   "metadata": {},
   "outputs": [],
   "source": [
    "save(snp_group, file = \"out/snp_group.rda\")"
   ]
  }
 ],
 "metadata": {
  "kernelspec": {
   "display_name": "R",
   "language": "R",
   "name": "ir"
  },
  "language_info": {
   "codemirror_mode": "r",
   "file_extension": ".r",
   "mimetype": "text/x-r-source",
   "name": "R",
   "pygments_lexer": "r",
   "version": "4.0.5"
  }
 },
 "nbformat": 4,
 "nbformat_minor": 5
}

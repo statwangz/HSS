{
 "cells": [
  {
   "cell_type": "code",
   "execution_count": 1,
   "id": "b75eaf4b",
   "metadata": {},
   "outputs": [
    {
     "data": {
      "text/html": [
       "'/import/home/share/zw/HSS'"
      ],
      "text/latex": [
       "'/import/home/share/zw/HSS'"
      ],
      "text/markdown": [
       "'/import/home/share/zw/HSS'"
      ],
      "text/plain": [
       "[1] \"/import/home/share/zw/HSS\""
      ]
     },
     "metadata": {},
     "output_type": "display_data"
    }
   ],
   "source": [
    "setwd(\"/import/home/share/zw/HSS\")\n",
    "getwd()"
   ]
  },
  {
   "cell_type": "code",
   "execution_count": 2,
   "id": "ed1ac29f",
   "metadata": {},
   "outputs": [
    {
     "name": "stderr",
     "output_type": "stream",
     "text": [
      "Loading required package: tidyverse\n",
      "\n",
      "── \u001b[1mAttaching packages\u001b[22m ─────────────────────────────────────── tidyverse 1.3.1 ──\n",
      "\n",
      "\u001b[32m✔\u001b[39m \u001b[34mggplot2\u001b[39m 3.3.5     \u001b[32m✔\u001b[39m \u001b[34mpurrr  \u001b[39m 0.3.4\n",
      "\u001b[32m✔\u001b[39m \u001b[34mtibble \u001b[39m 3.1.6     \u001b[32m✔\u001b[39m \u001b[34mdplyr  \u001b[39m 1.0.7\n",
      "\u001b[32m✔\u001b[39m \u001b[34mtidyr  \u001b[39m 1.1.4     \u001b[32m✔\u001b[39m \u001b[34mstringr\u001b[39m 1.4.0\n",
      "\u001b[32m✔\u001b[39m \u001b[34mreadr  \u001b[39m 2.1.1     \u001b[32m✔\u001b[39m \u001b[34mforcats\u001b[39m 0.5.1\n",
      "\n",
      "── \u001b[1mConflicts\u001b[22m ────────────────────────────────────────── tidyverse_conflicts() ──\n",
      "\u001b[31m✖\u001b[39m \u001b[34mdplyr\u001b[39m::\u001b[32mfilter()\u001b[39m masks \u001b[34mstats\u001b[39m::filter()\n",
      "\u001b[31m✖\u001b[39m \u001b[34mdplyr\u001b[39m::\u001b[32mlag()\u001b[39m    masks \u001b[34mstats\u001b[39m::lag()\n",
      "\n",
      "Loading required package: genio\n",
      "\n"
     ]
    }
   ],
   "source": [
    "library(HSS)\n",
    "\n",
    "# trait information\n",
    "data(trait_info)\n",
    "trait_name <- trait_info$Trait\n",
    "format_name <- paste0(\"sumstats/\", trait_name, \"_sumstats.txt\")"
   ]
  },
  {
   "cell_type": "code",
   "execution_count": 3,
   "id": "d06794fc",
   "metadata": {},
   "outputs": [
    {
     "name": "stderr",
     "output_type": "stream",
     "text": [
      "Begin reading in LD scores data... \n",
      "\n",
      "The LD score data set has 1290028 lines.\n",
      "\n"
     ]
    },
    {
     "data": {
      "text/html": [
       "<table class=\"dataframe\">\n",
       "<caption>A tibble: 5 × 6</caption>\n",
       "<thead>\n",
       "\t<tr><th scope=col>CHR</th><th scope=col>SNP</th><th scope=col>BP</th><th scope=col>CM</th><th scope=col>MAF</th><th scope=col>L2</th></tr>\n",
       "\t<tr><th scope=col>&lt;dbl&gt;</th><th scope=col>&lt;chr&gt;</th><th scope=col>&lt;dbl&gt;</th><th scope=col>&lt;dbl&gt;</th><th scope=col>&lt;dbl&gt;</th><th scope=col>&lt;dbl&gt;</th></tr>\n",
       "</thead>\n",
       "<tbody>\n",
       "\t<tr><td>1</td><td>rs12565286</td><td>721290</td><td>0.4102920</td><td>0.04353562</td><td>1.244134</td></tr>\n",
       "\t<tr><td>1</td><td>rs3094315 </td><td>752566</td><td>0.4887759</td><td>0.16358839</td><td>6.408547</td></tr>\n",
       "\t<tr><td>1</td><td>rs3131972 </td><td>752721</td><td>0.4888678</td><td>0.16754617</td><td>6.282501</td></tr>\n",
       "\t<tr><td>1</td><td>rs3131969 </td><td>754182</td><td>0.4897337</td><td>0.13324538</td><td>6.251752</td></tr>\n",
       "\t<tr><td>1</td><td>rs1048488 </td><td>760912</td><td>0.4925073</td><td>0.20316623</td><td>6.482785</td></tr>\n",
       "</tbody>\n",
       "</table>\n"
      ],
      "text/latex": [
       "A tibble: 5 × 6\n",
       "\\begin{tabular}{llllll}\n",
       " CHR & SNP & BP & CM & MAF & L2\\\\\n",
       " <dbl> & <chr> & <dbl> & <dbl> & <dbl> & <dbl>\\\\\n",
       "\\hline\n",
       "\t 1 & rs12565286 & 721290 & 0.4102920 & 0.04353562 & 1.244134\\\\\n",
       "\t 1 & rs3094315  & 752566 & 0.4887759 & 0.16358839 & 6.408547\\\\\n",
       "\t 1 & rs3131972  & 752721 & 0.4888678 & 0.16754617 & 6.282501\\\\\n",
       "\t 1 & rs3131969  & 754182 & 0.4897337 & 0.13324538 & 6.251752\\\\\n",
       "\t 1 & rs1048488  & 760912 & 0.4925073 & 0.20316623 & 6.482785\\\\\n",
       "\\end{tabular}\n"
      ],
      "text/markdown": [
       "\n",
       "A tibble: 5 × 6\n",
       "\n",
       "| CHR &lt;dbl&gt; | SNP &lt;chr&gt; | BP &lt;dbl&gt; | CM &lt;dbl&gt; | MAF &lt;dbl&gt; | L2 &lt;dbl&gt; |\n",
       "|---|---|---|---|---|---|\n",
       "| 1 | rs12565286 | 721290 | 0.4102920 | 0.04353562 | 1.244134 |\n",
       "| 1 | rs3094315  | 752566 | 0.4887759 | 0.16358839 | 6.408547 |\n",
       "| 1 | rs3131972  | 752721 | 0.4888678 | 0.16754617 | 6.282501 |\n",
       "| 1 | rs3131969  | 754182 | 0.4897337 | 0.13324538 | 6.251752 |\n",
       "| 1 | rs1048488  | 760912 | 0.4925073 | 0.20316623 | 6.482785 |\n",
       "\n"
      ],
      "text/plain": [
       "  CHR SNP        BP     CM        MAF        L2      \n",
       "1 1   rs12565286 721290 0.4102920 0.04353562 1.244134\n",
       "2 1   rs3094315  752566 0.4887759 0.16358839 6.408547\n",
       "3 1   rs3131972  752721 0.4888678 0.16754617 6.282501\n",
       "4 1   rs3131969  754182 0.4897337 0.13324538 6.251752\n",
       "5 1   rs1048488  760912 0.4925073 0.20316623 6.482785"
      ]
     },
     "metadata": {},
     "output_type": "display_data"
    }
   ],
   "source": [
    "# Download LD score data from Broad Institute\n",
    "# wget https://data.broadinstitute.org/alkesgroup/LDSCORE/w_hm3.snplist.bz2\n",
    "file_ldsc <- \"eur_w_ld_chr\"\n",
    "\n",
    "# format LD score data\n",
    "ldsc <- format_ldsc(file_ldsc)\n",
    "head(ldsc, n = 5)"
   ]
  },
  {
   "cell_type": "code",
   "execution_count": 4,
   "id": "f6025250",
   "metadata": {},
   "outputs": [
    {
     "name": "stderr",
     "output_type": "stream",
     "text": [
      "\u001b[1mRows: \u001b[22m\u001b[34m1038652\u001b[39m \u001b[1mColumns: \u001b[22m\u001b[34m7\u001b[39m\n",
      "\n",
      "\u001b[36m──\u001b[39m \u001b[1mColumn specification\u001b[22m \u001b[36m────────────────────────────────────────────────────────\u001b[39m\n",
      "\u001b[1mDelimiter:\u001b[22m \" \"\n",
      "\u001b[31mchr\u001b[39m (3): SNP, A1, A2\n",
      "\u001b[32mdbl\u001b[39m (4): Z, N, CHI2, P\n",
      "\n",
      "\n",
      "\u001b[36mℹ\u001b[39m Use \u001b[30m\u001b[47m\u001b[30m\u001b[47m`spec()`\u001b[47m\u001b[30m\u001b[49m\u001b[39m to retrieve the full column specification for this data.\n",
      "\u001b[36mℹ\u001b[39m Specify the column types or set \u001b[30m\u001b[47m\u001b[30m\u001b[47m`show_col_types = FALSE`\u001b[47m\u001b[30m\u001b[49m\u001b[39m to quiet this message.\n",
      "\n",
      "Begin LD score regression...\n",
      "\n",
      "\u001b[1mRows: \u001b[22m\u001b[34m1038627\u001b[39m \u001b[1mColumns: \u001b[22m\u001b[34m7\u001b[39m\n",
      "\n",
      "\u001b[36m──\u001b[39m \u001b[1mColumn specification\u001b[22m \u001b[36m────────────────────────────────────────────────────────\u001b[39m\n",
      "\u001b[1mDelimiter:\u001b[22m \" \"\n",
      "\u001b[31mchr\u001b[39m (3): SNP, A1, A2\n",
      "\u001b[32mdbl\u001b[39m (4): Z, N, CHI2, P\n",
      "\n",
      "\n",
      "\u001b[36mℹ\u001b[39m Use \u001b[30m\u001b[47m\u001b[30m\u001b[47m`spec()`\u001b[47m\u001b[30m\u001b[49m\u001b[39m to retrieve the full column specification for this data.\n",
      "\u001b[36mℹ\u001b[39m Specify the column types or set \u001b[30m\u001b[47m\u001b[30m\u001b[47m`show_col_types = FALSE`\u001b[47m\u001b[30m\u001b[49m\u001b[39m to quiet this message.\n",
      "\n",
      "Begin LD score regression...\n",
      "\n",
      "\u001b[1mRows: \u001b[22m\u001b[34m1027573\u001b[39m \u001b[1mColumns: \u001b[22m\u001b[34m7\u001b[39m\n",
      "\n",
      "\u001b[36m──\u001b[39m \u001b[1mColumn specification\u001b[22m \u001b[36m────────────────────────────────────────────────────────\u001b[39m\n",
      "\u001b[1mDelimiter:\u001b[22m \" \"\n",
      "\u001b[31mchr\u001b[39m (3): SNP, A1, A2\n",
      "\u001b[32mdbl\u001b[39m (4): Z, N, CHI2, P\n",
      "\n",
      "\n",
      "\u001b[36mℹ\u001b[39m Use \u001b[30m\u001b[47m\u001b[30m\u001b[47m`spec()`\u001b[47m\u001b[30m\u001b[49m\u001b[39m to retrieve the full column specification for this data.\n",
      "\u001b[36mℹ\u001b[39m Specify the column types or set \u001b[30m\u001b[47m\u001b[30m\u001b[47m`show_col_types = FALSE`\u001b[47m\u001b[30m\u001b[49m\u001b[39m to quiet this message.\n",
      "\n",
      "Begin LD score regression...\n",
      "\n",
      "\u001b[1mRows: \u001b[22m\u001b[34m1038530\u001b[39m \u001b[1mColumns: \u001b[22m\u001b[34m7\u001b[39m\n",
      "\n",
      "\u001b[36m──\u001b[39m \u001b[1mColumn specification\u001b[22m \u001b[36m────────────────────────────────────────────────────────\u001b[39m\n",
      "\u001b[1mDelimiter:\u001b[22m \" \"\n",
      "\u001b[31mchr\u001b[39m (3): SNP, A1, A2\n",
      "\u001b[32mdbl\u001b[39m (4): Z, N, CHI2, P\n",
      "\n",
      "\n",
      "\u001b[36mℹ\u001b[39m Use \u001b[30m\u001b[47m\u001b[30m\u001b[47m`spec()`\u001b[47m\u001b[30m\u001b[49m\u001b[39m to retrieve the full column specification for this data.\n",
      "\u001b[36mℹ\u001b[39m Specify the column types or set \u001b[30m\u001b[47m\u001b[30m\u001b[47m`show_col_types = FALSE`\u001b[47m\u001b[30m\u001b[49m\u001b[39m to quiet this message.\n",
      "\n",
      "Begin LD score regression...\n",
      "\n",
      "\u001b[1mRows: \u001b[22m\u001b[34m1038652\u001b[39m \u001b[1mColumns: \u001b[22m\u001b[34m7\u001b[39m\n",
      "\n",
      "\u001b[36m──\u001b[39m \u001b[1mColumn specification\u001b[22m \u001b[36m────────────────────────────────────────────────────────\u001b[39m\n",
      "\u001b[1mDelimiter:\u001b[22m \" \"\n",
      "\u001b[31mchr\u001b[39m (3): SNP, A1, A2\n",
      "\u001b[32mdbl\u001b[39m (4): Z, N, CHI2, P\n",
      "\n",
      "\n",
      "\u001b[36mℹ\u001b[39m Use \u001b[30m\u001b[47m\u001b[30m\u001b[47m`spec()`\u001b[47m\u001b[30m\u001b[49m\u001b[39m to retrieve the full column specification for this data.\n",
      "\u001b[36mℹ\u001b[39m Specify the column types or set \u001b[30m\u001b[47m\u001b[30m\u001b[47m`show_col_types = FALSE`\u001b[47m\u001b[30m\u001b[49m\u001b[39m to quiet this message.\n",
      "\n",
      "Begin LD score regression...\n",
      "\n",
      "\u001b[1mRows: \u001b[22m\u001b[34m1027336\u001b[39m \u001b[1mColumns: \u001b[22m\u001b[34m7\u001b[39m\n",
      "\n",
      "\u001b[36m──\u001b[39m \u001b[1mColumn specification\u001b[22m \u001b[36m────────────────────────────────────────────────────────\u001b[39m\n",
      "\u001b[1mDelimiter:\u001b[22m \" \"\n",
      "\u001b[31mchr\u001b[39m (3): SNP, A1, A2\n",
      "\u001b[32mdbl\u001b[39m (4): Z, N, CHI2, P\n",
      "\n",
      "\n",
      "\u001b[36mℹ\u001b[39m Use \u001b[30m\u001b[47m\u001b[30m\u001b[47m`spec()`\u001b[47m\u001b[30m\u001b[49m\u001b[39m to retrieve the full column specification for this data.\n",
      "\u001b[36mℹ\u001b[39m Specify the column types or set \u001b[30m\u001b[47m\u001b[30m\u001b[47m`show_col_types = FALSE`\u001b[47m\u001b[30m\u001b[49m\u001b[39m to quiet this message.\n",
      "\n",
      "Begin LD score regression...\n",
      "\n",
      "\u001b[1mRows: \u001b[22m\u001b[34m1027859\u001b[39m \u001b[1mColumns: \u001b[22m\u001b[34m7\u001b[39m\n",
      "\n",
      "\u001b[36m──\u001b[39m \u001b[1mColumn specification\u001b[22m \u001b[36m────────────────────────────────────────────────────────\u001b[39m\n",
      "\u001b[1mDelimiter:\u001b[22m \" \"\n",
      "\u001b[31mchr\u001b[39m (3): SNP, A1, A2\n",
      "\u001b[32mdbl\u001b[39m (4): Z, N, CHI2, P\n",
      "\n",
      "\n",
      "\u001b[36mℹ\u001b[39m Use \u001b[30m\u001b[47m\u001b[30m\u001b[47m`spec()`\u001b[47m\u001b[30m\u001b[49m\u001b[39m to retrieve the full column specification for this data.\n",
      "\u001b[36mℹ\u001b[39m Specify the column types or set \u001b[30m\u001b[47m\u001b[30m\u001b[47m`show_col_types = FALSE`\u001b[47m\u001b[30m\u001b[49m\u001b[39m to quiet this message.\n",
      "\n",
      "Begin LD score regression...\n",
      "\n",
      "\u001b[1mRows: \u001b[22m\u001b[34m1027859\u001b[39m \u001b[1mColumns: \u001b[22m\u001b[34m7\u001b[39m\n",
      "\n",
      "\u001b[36m──\u001b[39m \u001b[1mColumn specification\u001b[22m \u001b[36m────────────────────────────────────────────────────────\u001b[39m\n",
      "\u001b[1mDelimiter:\u001b[22m \" \"\n",
      "\u001b[31mchr\u001b[39m (3): SNP, A1, A2\n",
      "\u001b[32mdbl\u001b[39m (4): Z, N, CHI2, P\n",
      "\n",
      "\n",
      "\u001b[36mℹ\u001b[39m Use \u001b[30m\u001b[47m\u001b[30m\u001b[47m`spec()`\u001b[47m\u001b[30m\u001b[49m\u001b[39m to retrieve the full column specification for this data.\n",
      "\u001b[36mℹ\u001b[39m Specify the column types or set \u001b[30m\u001b[47m\u001b[30m\u001b[47m`show_col_types = FALSE`\u001b[47m\u001b[30m\u001b[49m\u001b[39m to quiet this message.\n",
      "\n",
      "Begin LD score regression...\n",
      "\n",
      "\u001b[1mRows: \u001b[22m\u001b[34m1027859\u001b[39m \u001b[1mColumns: \u001b[22m\u001b[34m7\u001b[39m\n",
      "\n",
      "\u001b[36m──\u001b[39m \u001b[1mColumn specification\u001b[22m \u001b[36m────────────────────────────────────────────────────────\u001b[39m\n",
      "\u001b[1mDelimiter:\u001b[22m \" \"\n",
      "\u001b[31mchr\u001b[39m (3): SNP, A1, A2\n",
      "\u001b[32mdbl\u001b[39m (4): Z, N, CHI2, P\n",
      "\n",
      "\n",
      "\u001b[36mℹ\u001b[39m Use \u001b[30m\u001b[47m\u001b[30m\u001b[47m`spec()`\u001b[47m\u001b[30m\u001b[49m\u001b[39m to retrieve the full column specification for this data.\n",
      "\u001b[36mℹ\u001b[39m Specify the column types or set \u001b[30m\u001b[47m\u001b[30m\u001b[47m`show_col_types = FALSE`\u001b[47m\u001b[30m\u001b[49m\u001b[39m to quiet this message.\n",
      "\n",
      "Begin LD score regression...\n",
      "\n",
      "\u001b[1mRows: \u001b[22m\u001b[34m1027079\u001b[39m \u001b[1mColumns: \u001b[22m\u001b[34m7\u001b[39m\n",
      "\n",
      "\u001b[36m──\u001b[39m \u001b[1mColumn specification\u001b[22m \u001b[36m────────────────────────────────────────────────────────\u001b[39m\n",
      "\u001b[1mDelimiter:\u001b[22m \" \"\n",
      "\u001b[31mchr\u001b[39m (3): SNP, A1, A2\n",
      "\u001b[32mdbl\u001b[39m (4): Z, N, CHI2, P\n",
      "\n",
      "\n",
      "\u001b[36mℹ\u001b[39m Use \u001b[30m\u001b[47m\u001b[30m\u001b[47m`spec()`\u001b[47m\u001b[30m\u001b[49m\u001b[39m to retrieve the full column specification for this data.\n",
      "\u001b[36mℹ\u001b[39m Specify the column types or set \u001b[30m\u001b[47m\u001b[30m\u001b[47m`show_col_types = FALSE`\u001b[47m\u001b[30m\u001b[49m\u001b[39m to quiet this message.\n",
      "\n",
      "Begin LD score regression...\n",
      "\n"
     ]
    }
   ],
   "source": [
    "# result list of LD score regression\n",
    "ldsc_list <- list()\n",
    "\n",
    "for(i in 1:length(trait_name)){\n",
    "    sumstats <- read_delim(format_name[i])\n",
    "    ldsc_i <- ldsc_fit(sumstats, ldsc)\n",
    "    ldsc_list <- c(ldsc_list, list(ldsc_i))\n",
    "}"
   ]
  },
  {
   "cell_type": "code",
   "execution_count": 9,
   "id": "5dc23e44",
   "metadata": {
    "scrolled": true
   },
   "outputs": [
    {
     "data": {
      "text/html": [
       "<dl>\n",
       "\t<dt>$h2</dt>\n",
       "\t\t<dd>0.0217577351798543</dd>\n",
       "\t<dt>$h2_se</dt>\n",
       "\t\t<dd>0.00205883798913078</dd>\n",
       "</dl>\n"
      ],
      "text/latex": [
       "\\begin{description}\n",
       "\\item[\\$h2] 0.0217577351798543\n",
       "\\item[\\$h2\\_se] 0.00205883798913078\n",
       "\\end{description}\n"
      ],
      "text/markdown": [
       "$h2\n",
       ":   0.0217577351798543\n",
       "$h2_se\n",
       ":   0.00205883798913078\n",
       "\n",
       "\n"
      ],
      "text/plain": [
       "$h2\n",
       "[1] 0.02175774\n",
       "\n",
       "$h2_se\n",
       "[1] 0.002058838\n"
      ]
     },
     "metadata": {},
     "output_type": "display_data"
    }
   ],
   "source": [
    "ldsc_list <- lapply(ldsc_list,\n",
    "                  FUN = function(x){list(h2 = x$h2, h2_se = x$h2_se)})\n",
    "ldsc_list[[1]]"
   ]
  },
  {
   "cell_type": "code",
   "execution_count": 11,
   "id": "80f59570",
   "metadata": {},
   "outputs": [],
   "source": [
    "save(ldsc_list, file = \"out/ldsc.rda\")"
   ]
  }
 ],
 "metadata": {
  "kernelspec": {
   "display_name": "R",
   "language": "R",
   "name": "ir"
  },
  "language_info": {
   "codemirror_mode": "r",
   "file_extension": ".r",
   "mimetype": "text/x-r-source",
   "name": "R",
   "pygments_lexer": "r",
   "version": "4.0.5"
  }
 },
 "nbformat": 4,
 "nbformat_minor": 5
}

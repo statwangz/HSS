{
 "cells": [
  {
   "cell_type": "code",
   "execution_count": 1,
   "id": "3aebb2ac",
   "metadata": {},
   "outputs": [
    {
     "data": {
      "text/html": [
       "'/import/home/share/zw/HSS'"
      ],
      "text/latex": [
       "'/import/home/share/zw/HSS'"
      ],
      "text/markdown": [
       "'/import/home/share/zw/HSS'"
      ],
      "text/plain": [
       "[1] \"/import/home/share/zw/HSS\""
      ]
     },
     "metadata": {},
     "output_type": "display_data"
    }
   ],
   "source": [
    "setwd(\"/import/home/share/zw/HSS\")\n",
    "getwd()"
   ]
  },
  {
   "cell_type": "code",
   "execution_count": 2,
   "id": "93ba25df",
   "metadata": {},
   "outputs": [
    {
     "name": "stderr",
     "output_type": "stream",
     "text": [
      "Loading required package: tidyverse\n",
      "\n",
      "── \u001b[1mAttaching packages\u001b[22m ─────────────────────────────────────── tidyverse 1.3.1 ──\n",
      "\n",
      "\u001b[32m✔\u001b[39m \u001b[34mggplot2\u001b[39m 3.3.5     \u001b[32m✔\u001b[39m \u001b[34mpurrr  \u001b[39m 0.3.4\n",
      "\u001b[32m✔\u001b[39m \u001b[34mtibble \u001b[39m 3.1.6     \u001b[32m✔\u001b[39m \u001b[34mdplyr  \u001b[39m 1.0.7\n",
      "\u001b[32m✔\u001b[39m \u001b[34mtidyr  \u001b[39m 1.1.4     \u001b[32m✔\u001b[39m \u001b[34mstringr\u001b[39m 1.4.0\n",
      "\u001b[32m✔\u001b[39m \u001b[34mreadr  \u001b[39m 2.1.1     \u001b[32m✔\u001b[39m \u001b[34mforcats\u001b[39m 0.5.1\n",
      "\n",
      "── \u001b[1mConflicts\u001b[22m ────────────────────────────────────────── tidyverse_conflicts() ──\n",
      "\u001b[31m✖\u001b[39m \u001b[34mdplyr\u001b[39m::\u001b[32mfilter()\u001b[39m masks \u001b[34mstats\u001b[39m::filter()\n",
      "\u001b[31m✖\u001b[39m \u001b[34mdplyr\u001b[39m::\u001b[32mlag()\u001b[39m    masks \u001b[34mstats\u001b[39m::lag()\n",
      "\n",
      "Loading required package: genio\n",
      "\n"
     ]
    }
   ],
   "source": [
    "# install.packages(\"devtools\")\n",
    "# devtools::install_github(\"statwangz/HSS\")\n",
    "library(HSS)"
   ]
  },
  {
   "cell_type": "code",
   "execution_count": 3,
   "id": "aaa6e3ae",
   "metadata": {},
   "outputs": [
    {
     "data": {
      "text/html": [
       "<table class=\"dataframe\">\n",
       "<caption>A tibble: 10 × 3</caption>\n",
       "<thead>\n",
       "\t<tr><th scope=col>Trait</th><th scope=col>PMID</th><th scope=col>Description</th></tr>\n",
       "\t<tr><th scope=col>&lt;chr&gt;</th><th scope=col>&lt;dbl&gt;</th><th scope=col>&lt;chr&gt;</th></tr>\n",
       "</thead>\n",
       "<tbody>\n",
       "\t<tr><td>Angina      </td><td>31427789</td><td>Vascular/heart problems diagnosed by doctor: Angina                       </td></tr>\n",
       "\t<tr><td>BMI         </td><td>31427789</td><td>Body Mass Index                                                           </td></tr>\n",
       "\t<tr><td>Depression  </td><td>29942085</td><td>Depressive symptoms                                                       </td></tr>\n",
       "\t<tr><td>Hair        </td><td>31427789</td><td>Hair colour (natural, before greying): Black                              </td></tr>\n",
       "\t<tr><td>HBP         </td><td>31427789</td><td>Vascular/heart problems diagnosed by doctor: High blood pressure          </td></tr>\n",
       "\t<tr><td>Height      </td><td>31427789</td><td>Standing height                                                           </td></tr>\n",
       "\t<tr><td>Income      </td><td>31427789</td><td>Average total household income before tax                                 </td></tr>\n",
       "\t<tr><td>Intelligence</td><td>31427789</td><td>Fluid intelligence test - Fluid intelligence score                        </td></tr>\n",
       "\t<tr><td>MDD         </td><td>31427789</td><td>Diagnoses - secondary ICD10: F32 Major depressive disorder, single episode</td></tr>\n",
       "\t<tr><td>Tanning     </td><td>31427789</td><td>Ease of skin tanning                                                      </td></tr>\n",
       "</tbody>\n",
       "</table>\n"
      ],
      "text/latex": [
       "A tibble: 10 × 3\n",
       "\\begin{tabular}{lll}\n",
       " Trait & PMID & Description\\\\\n",
       " <chr> & <dbl> & <chr>\\\\\n",
       "\\hline\n",
       "\t Angina       & 31427789 & Vascular/heart problems diagnosed by doctor: Angina                       \\\\\n",
       "\t BMI          & 31427789 & Body Mass Index                                                           \\\\\n",
       "\t Depression   & 29942085 & Depressive symptoms                                                       \\\\\n",
       "\t Hair         & 31427789 & Hair colour (natural, before greying): Black                              \\\\\n",
       "\t HBP          & 31427789 & Vascular/heart problems diagnosed by doctor: High blood pressure          \\\\\n",
       "\t Height       & 31427789 & Standing height                                                           \\\\\n",
       "\t Income       & 31427789 & Average total household income before tax                                 \\\\\n",
       "\t Intelligence & 31427789 & Fluid intelligence test - Fluid intelligence score                        \\\\\n",
       "\t MDD          & 31427789 & Diagnoses - secondary ICD10: F32 Major depressive disorder, single episode\\\\\n",
       "\t Tanning      & 31427789 & Ease of skin tanning                                                      \\\\\n",
       "\\end{tabular}\n"
      ],
      "text/markdown": [
       "\n",
       "A tibble: 10 × 3\n",
       "\n",
       "| Trait &lt;chr&gt; | PMID &lt;dbl&gt; | Description &lt;chr&gt; |\n",
       "|---|---|---|\n",
       "| Angina       | 31427789 | Vascular/heart problems diagnosed by doctor: Angina                        |\n",
       "| BMI          | 31427789 | Body Mass Index                                                            |\n",
       "| Depression   | 29942085 | Depressive symptoms                                                        |\n",
       "| Hair         | 31427789 | Hair colour (natural, before greying): Black                               |\n",
       "| HBP          | 31427789 | Vascular/heart problems diagnosed by doctor: High blood pressure           |\n",
       "| Height       | 31427789 | Standing height                                                            |\n",
       "| Income       | 31427789 | Average total household income before tax                                  |\n",
       "| Intelligence | 31427789 | Fluid intelligence test - Fluid intelligence score                         |\n",
       "| MDD          | 31427789 | Diagnoses - secondary ICD10: F32 Major depressive disorder, single episode |\n",
       "| Tanning      | 31427789 | Ease of skin tanning                                                       |\n",
       "\n"
      ],
      "text/plain": [
       "   Trait        PMID    \n",
       "1  Angina       31427789\n",
       "2  BMI          31427789\n",
       "3  Depression   29942085\n",
       "4  Hair         31427789\n",
       "5  HBP          31427789\n",
       "6  Height       31427789\n",
       "7  Income       31427789\n",
       "8  Intelligence 31427789\n",
       "9  MDD          31427789\n",
       "10 Tanning      31427789\n",
       "   Description                                                               \n",
       "1  Vascular/heart problems diagnosed by doctor: Angina                       \n",
       "2  Body Mass Index                                                           \n",
       "3  Depressive symptoms                                                       \n",
       "4  Hair colour (natural, before greying): Black                              \n",
       "5  Vascular/heart problems diagnosed by doctor: High blood pressure          \n",
       "6  Standing height                                                           \n",
       "7  Average total household income before tax                                 \n",
       "8  Fluid intelligence test - Fluid intelligence score                        \n",
       "9  Diagnoses - secondary ICD10: F32 Major depressive disorder, single episode\n",
       "10 Ease of skin tanning                                                      "
      ]
     },
     "metadata": {},
     "output_type": "display_data"
    }
   ],
   "source": [
    "trait_info"
   ]
  },
  {
   "cell_type": "code",
   "execution_count": 4,
   "id": "57b26aed",
   "metadata": {},
   "outputs": [
    {
     "data": {
      "text/html": [
       "<table class=\"dataframe\">\n",
       "<caption>A data.frame: 10 × 3</caption>\n",
       "<thead>\n",
       "\t<tr><th scope=col>Trait</th><th scope=col>h2</th><th scope=col>se</th></tr>\n",
       "\t<tr><th scope=col>&lt;chr&gt;</th><th scope=col>&lt;dbl&gt;</th><th scope=col>&lt;dbl&gt;</th></tr>\n",
       "</thead>\n",
       "<tbody>\n",
       "\t<tr><td>Angina      </td><td>0.022</td><td>0.002</td></tr>\n",
       "\t<tr><td>BMI         </td><td>0.238</td><td>0.008</td></tr>\n",
       "\t<tr><td>Depression  </td><td>0.051</td><td>0.003</td></tr>\n",
       "\t<tr><td>Hair        </td><td>0.064</td><td>0.009</td></tr>\n",
       "\t<tr><td>HBP         </td><td>0.125</td><td>0.005</td></tr>\n",
       "\t<tr><td>Height      </td><td>0.457</td><td>0.019</td></tr>\n",
       "\t<tr><td>Income      </td><td>0.069</td><td>0.004</td></tr>\n",
       "\t<tr><td>Intelligence</td><td>0.195</td><td>0.010</td></tr>\n",
       "\t<tr><td>MDD         </td><td>0.019</td><td>0.002</td></tr>\n",
       "\t<tr><td>Tanning     </td><td>0.119</td><td>0.016</td></tr>\n",
       "</tbody>\n",
       "</table>\n"
      ],
      "text/latex": [
       "A data.frame: 10 × 3\n",
       "\\begin{tabular}{lll}\n",
       " Trait & h2 & se\\\\\n",
       " <chr> & <dbl> & <dbl>\\\\\n",
       "\\hline\n",
       "\t Angina       & 0.022 & 0.002\\\\\n",
       "\t BMI          & 0.238 & 0.008\\\\\n",
       "\t Depression   & 0.051 & 0.003\\\\\n",
       "\t Hair         & 0.064 & 0.009\\\\\n",
       "\t HBP          & 0.125 & 0.005\\\\\n",
       "\t Height       & 0.457 & 0.019\\\\\n",
       "\t Income       & 0.069 & 0.004\\\\\n",
       "\t Intelligence & 0.195 & 0.010\\\\\n",
       "\t MDD          & 0.019 & 0.002\\\\\n",
       "\t Tanning      & 0.119 & 0.016\\\\\n",
       "\\end{tabular}\n"
      ],
      "text/markdown": [
       "\n",
       "A data.frame: 10 × 3\n",
       "\n",
       "| Trait &lt;chr&gt; | h2 &lt;dbl&gt; | se &lt;dbl&gt; |\n",
       "|---|---|---|\n",
       "| Angina       | 0.022 | 0.002 |\n",
       "| BMI          | 0.238 | 0.008 |\n",
       "| Depression   | 0.051 | 0.003 |\n",
       "| Hair         | 0.064 | 0.009 |\n",
       "| HBP          | 0.125 | 0.005 |\n",
       "| Height       | 0.457 | 0.019 |\n",
       "| Income       | 0.069 | 0.004 |\n",
       "| Intelligence | 0.195 | 0.010 |\n",
       "| MDD          | 0.019 | 0.002 |\n",
       "| Tanning      | 0.119 | 0.016 |\n",
       "\n"
      ],
      "text/plain": [
       "   Trait        h2    se   \n",
       "1  Angina       0.022 0.002\n",
       "2  BMI          0.238 0.008\n",
       "3  Depression   0.051 0.003\n",
       "4  Hair         0.064 0.009\n",
       "5  HBP          0.125 0.005\n",
       "6  Height       0.457 0.019\n",
       "7  Income       0.069 0.004\n",
       "8  Intelligence 0.195 0.010\n",
       "9  MDD          0.019 0.002\n",
       "10 Tanning      0.119 0.016"
      ]
     },
     "metadata": {},
     "output_type": "display_data"
    }
   ],
   "source": [
    "# LD score regression\n",
    "load(\"out/ldsc.rda\")\n",
    "ldsc %>%\n",
    "  select(-Trait) %>%\n",
    "  round(digits = 3) %>%\n",
    "  cbind(Trait = ldsc$Trait, .)"
   ]
  },
  {
   "cell_type": "code",
   "execution_count": 5,
   "id": "186a2c82",
   "metadata": {},
   "outputs": [
    {
     "data": {
      "text/html": [
       "<table class=\"dataframe\">\n",
       "<caption>A data.frame: 10 × 9</caption>\n",
       "<thead>\n",
       "\t<tr><th scope=col>Trait</th><th scope=col>h2</th><th scope=col>se</th><th scope=col>h2_cov</th><th scope=col>se_cov</th><th scope=col>h2_cov_5pc</th><th scope=col>se_cov_5pc</th><th scope=col>h2_cov_10pc</th><th scope=col>se_cov_10pc</th></tr>\n",
       "\t<tr><th scope=col>&lt;chr&gt;</th><th scope=col>&lt;dbl&gt;</th><th scope=col>&lt;dbl&gt;</th><th scope=col>&lt;dbl&gt;</th><th scope=col>&lt;dbl&gt;</th><th scope=col>&lt;dbl&gt;</th><th scope=col>&lt;dbl&gt;</th><th scope=col>&lt;dbl&gt;</th><th scope=col>&lt;dbl&gt;</th></tr>\n",
       "</thead>\n",
       "<tbody>\n",
       "\t<tr><td>Angina      </td><td>0.015</td><td>0.001</td><td>0.023</td><td>0.001</td><td>0.024</td><td>0.001</td><td>0.025</td><td>0.001</td></tr>\n",
       "\t<tr><td>BMI         </td><td>0.148</td><td>0.004</td><td>0.237</td><td>0.007</td><td>0.245</td><td>0.007</td><td>0.252</td><td>0.007</td></tr>\n",
       "\t<tr><td>Depression  </td><td>0.030</td><td>0.001</td><td>0.047</td><td>0.002</td><td>0.049</td><td>0.002</td><td>0.050</td><td>0.002</td></tr>\n",
       "\t<tr><td>Hair        </td><td>0.083</td><td>0.006</td><td>0.133</td><td>0.010</td><td>0.138</td><td>0.010</td><td>0.142</td><td>0.011</td></tr>\n",
       "\t<tr><td>HBP         </td><td>0.080</td><td>0.003</td><td>0.128</td><td>0.004</td><td>0.132</td><td>0.004</td><td>0.136</td><td>0.004</td></tr>\n",
       "\t<tr><td>Height      </td><td>0.341</td><td>0.013</td><td>0.544</td><td>0.020</td><td>0.563</td><td>0.021</td><td>0.578</td><td>0.021</td></tr>\n",
       "\t<tr><td>Income      </td><td>0.048</td><td>0.002</td><td>0.077</td><td>0.003</td><td>0.080</td><td>0.003</td><td>0.082</td><td>0.003</td></tr>\n",
       "\t<tr><td>Intelligence</td><td>0.118</td><td>0.005</td><td>0.188</td><td>0.008</td><td>0.195</td><td>0.008</td><td>0.200</td><td>0.009</td></tr>\n",
       "\t<tr><td>MDD         </td><td>0.008</td><td>0.001</td><td>0.013</td><td>0.001</td><td>0.013</td><td>0.001</td><td>0.014</td><td>0.001</td></tr>\n",
       "\t<tr><td>Tanning     </td><td>0.127</td><td>0.009</td><td>0.203</td><td>0.014</td><td>0.210</td><td>0.015</td><td>0.216</td><td>0.015</td></tr>\n",
       "</tbody>\n",
       "</table>\n"
      ],
      "text/latex": [
       "A data.frame: 10 × 9\n",
       "\\begin{tabular}{lllllllll}\n",
       " Trait & h2 & se & h2\\_cov & se\\_cov & h2\\_cov\\_5pc & se\\_cov\\_5pc & h2\\_cov\\_10pc & se\\_cov\\_10pc\\\\\n",
       " <chr> & <dbl> & <dbl> & <dbl> & <dbl> & <dbl> & <dbl> & <dbl> & <dbl>\\\\\n",
       "\\hline\n",
       "\t Angina       & 0.015 & 0.001 & 0.023 & 0.001 & 0.024 & 0.001 & 0.025 & 0.001\\\\\n",
       "\t BMI          & 0.148 & 0.004 & 0.237 & 0.007 & 0.245 & 0.007 & 0.252 & 0.007\\\\\n",
       "\t Depression   & 0.030 & 0.001 & 0.047 & 0.002 & 0.049 & 0.002 & 0.050 & 0.002\\\\\n",
       "\t Hair         & 0.083 & 0.006 & 0.133 & 0.010 & 0.138 & 0.010 & 0.142 & 0.011\\\\\n",
       "\t HBP          & 0.080 & 0.003 & 0.128 & 0.004 & 0.132 & 0.004 & 0.136 & 0.004\\\\\n",
       "\t Height       & 0.341 & 0.013 & 0.544 & 0.020 & 0.563 & 0.021 & 0.578 & 0.021\\\\\n",
       "\t Income       & 0.048 & 0.002 & 0.077 & 0.003 & 0.080 & 0.003 & 0.082 & 0.003\\\\\n",
       "\t Intelligence & 0.118 & 0.005 & 0.188 & 0.008 & 0.195 & 0.008 & 0.200 & 0.009\\\\\n",
       "\t MDD          & 0.008 & 0.001 & 0.013 & 0.001 & 0.013 & 0.001 & 0.014 & 0.001\\\\\n",
       "\t Tanning      & 0.127 & 0.009 & 0.203 & 0.014 & 0.210 & 0.015 & 0.216 & 0.015\\\\\n",
       "\\end{tabular}\n"
      ],
      "text/markdown": [
       "\n",
       "A data.frame: 10 × 9\n",
       "\n",
       "| Trait &lt;chr&gt; | h2 &lt;dbl&gt; | se &lt;dbl&gt; | h2_cov &lt;dbl&gt; | se_cov &lt;dbl&gt; | h2_cov_5pc &lt;dbl&gt; | se_cov_5pc &lt;dbl&gt; | h2_cov_10pc &lt;dbl&gt; | se_cov_10pc &lt;dbl&gt; |\n",
       "|---|---|---|---|---|---|---|---|---|\n",
       "| Angina       | 0.015 | 0.001 | 0.023 | 0.001 | 0.024 | 0.001 | 0.025 | 0.001 |\n",
       "| BMI          | 0.148 | 0.004 | 0.237 | 0.007 | 0.245 | 0.007 | 0.252 | 0.007 |\n",
       "| Depression   | 0.030 | 0.001 | 0.047 | 0.002 | 0.049 | 0.002 | 0.050 | 0.002 |\n",
       "| Hair         | 0.083 | 0.006 | 0.133 | 0.010 | 0.138 | 0.010 | 0.142 | 0.011 |\n",
       "| HBP          | 0.080 | 0.003 | 0.128 | 0.004 | 0.132 | 0.004 | 0.136 | 0.004 |\n",
       "| Height       | 0.341 | 0.013 | 0.544 | 0.020 | 0.563 | 0.021 | 0.578 | 0.021 |\n",
       "| Income       | 0.048 | 0.002 | 0.077 | 0.003 | 0.080 | 0.003 | 0.082 | 0.003 |\n",
       "| Intelligence | 0.118 | 0.005 | 0.188 | 0.008 | 0.195 | 0.008 | 0.200 | 0.009 |\n",
       "| MDD          | 0.008 | 0.001 | 0.013 | 0.001 | 0.013 | 0.001 | 0.014 | 0.001 |\n",
       "| Tanning      | 0.127 | 0.009 | 0.203 | 0.014 | 0.210 | 0.015 | 0.216 | 0.015 |\n",
       "\n"
      ],
      "text/plain": [
       "   Trait        h2    se    h2_cov se_cov h2_cov_5pc se_cov_5pc h2_cov_10pc\n",
       "1  Angina       0.015 0.001 0.023  0.001  0.024      0.001      0.025      \n",
       "2  BMI          0.148 0.004 0.237  0.007  0.245      0.007      0.252      \n",
       "3  Depression   0.030 0.001 0.047  0.002  0.049      0.002      0.050      \n",
       "4  Hair         0.083 0.006 0.133  0.010  0.138      0.010      0.142      \n",
       "5  HBP          0.080 0.003 0.128  0.004  0.132      0.004      0.136      \n",
       "6  Height       0.341 0.013 0.544  0.020  0.563      0.021      0.578      \n",
       "7  Income       0.048 0.002 0.077  0.003  0.080      0.003      0.082      \n",
       "8  Intelligence 0.118 0.005 0.188  0.008  0.195      0.008      0.200      \n",
       "9  MDD          0.008 0.001 0.013  0.001  0.013      0.001      0.014      \n",
       "10 Tanning      0.127 0.009 0.203  0.014  0.210      0.015      0.216      \n",
       "   se_cov_10pc\n",
       "1  0.001      \n",
       "2  0.007      \n",
       "3  0.002      \n",
       "4  0.011      \n",
       "5  0.004      \n",
       "6  0.021      \n",
       "7  0.003      \n",
       "8  0.009      \n",
       "9  0.001      \n",
       "10 0.015      "
      ]
     },
     "metadata": {},
     "output_type": "display_data"
    }
   ],
   "source": [
    "# XPASS\n",
    "load(\"out/xpass.rda\")\n",
    "xpass %>%\n",
    "  select(-Trait) %>%\n",
    "  round(digits = 3) %>%\n",
    "  cbind(Trait = xpass$Trait, .)"
   ]
  }
 ],
 "metadata": {
  "kernelspec": {
   "display_name": "R",
   "language": "R",
   "name": "ir"
  },
  "language_info": {
   "codemirror_mode": "r",
   "file_extension": ".r",
   "mimetype": "text/x-r-source",
   "name": "R",
   "pygments_lexer": "r",
   "version": "4.0.5"
  }
 },
 "nbformat": 4,
 "nbformat_minor": 5
}

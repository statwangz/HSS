{
 "cells": [
  {
   "cell_type": "code",
   "execution_count": 1,
   "id": "b75eaf4b",
   "metadata": {},
   "outputs": [
    {
     "data": {
      "text/html": [
       "'/import/home/share/zw/HSS'"
      ],
      "text/latex": [
       "'/import/home/share/zw/HSS'"
      ],
      "text/markdown": [
       "'/import/home/share/zw/HSS'"
      ],
      "text/plain": [
       "[1] \"/import/home/share/zw/HSS\""
      ]
     },
     "metadata": {},
     "output_type": "display_data"
    }
   ],
   "source": [
    "setwd(\"/import/home/share/zw/HSS\")\n",
    "getwd()"
   ]
  },
  {
   "cell_type": "code",
   "execution_count": 2,
   "id": "ed1ac29f",
   "metadata": {},
   "outputs": [
    {
     "name": "stderr",
     "output_type": "stream",
     "text": [
      "Loading required package: tidyverse\n",
      "\n",
      "── \u001b[1mAttaching packages\u001b[22m ─────────────────────────────────────── tidyverse 1.3.1 ──\n",
      "\n",
      "\u001b[32m✔\u001b[39m \u001b[34mggplot2\u001b[39m 3.3.5     \u001b[32m✔\u001b[39m \u001b[34mpurrr  \u001b[39m 0.3.4\n",
      "\u001b[32m✔\u001b[39m \u001b[34mtibble \u001b[39m 3.1.6     \u001b[32m✔\u001b[39m \u001b[34mdplyr  \u001b[39m 1.0.7\n",
      "\u001b[32m✔\u001b[39m \u001b[34mtidyr  \u001b[39m 1.1.4     \u001b[32m✔\u001b[39m \u001b[34mstringr\u001b[39m 1.4.0\n",
      "\u001b[32m✔\u001b[39m \u001b[34mreadr  \u001b[39m 2.1.1     \u001b[32m✔\u001b[39m \u001b[34mforcats\u001b[39m 0.5.1\n",
      "\n",
      "── \u001b[1mConflicts\u001b[22m ────────────────────────────────────────── tidyverse_conflicts() ──\n",
      "\u001b[31m✖\u001b[39m \u001b[34mdplyr\u001b[39m::\u001b[32mfilter()\u001b[39m masks \u001b[34mstats\u001b[39m::filter()\n",
      "\u001b[31m✖\u001b[39m \u001b[34mdplyr\u001b[39m::\u001b[32mlag()\u001b[39m    masks \u001b[34mstats\u001b[39m::lag()\n",
      "\n",
      "Loading required package: genio\n",
      "\n"
     ]
    }
   ],
   "source": [
    "# install.packages(\"devtools\")\n",
    "# devtools::install_github(\"statwangz/HSS\")\n",
    "library(HSS)"
   ]
  },
  {
   "cell_type": "code",
   "execution_count": 3,
   "id": "94616f7f",
   "metadata": {},
   "outputs": [],
   "source": [
    "# trait information\n",
    "trait_name <- trait_info$Trait\n",
    "format_name <- paste0(\"sumstats/\", trait_name, \"_sumstats.txt\")"
   ]
  },
  {
   "cell_type": "code",
   "execution_count": 4,
   "id": "d06794fc",
   "metadata": {},
   "outputs": [
    {
     "name": "stderr",
     "output_type": "stream",
     "text": [
      "Begin reading in LD scores data... \n",
      "\n",
      "The LD score data set has 1290028 lines.\n",
      "\n"
     ]
    },
    {
     "data": {
      "text/html": [
       "<table class=\"dataframe\">\n",
       "<caption>A tibble: 5 × 6</caption>\n",
       "<thead>\n",
       "\t<tr><th scope=col>CHR</th><th scope=col>SNP</th><th scope=col>BP</th><th scope=col>CM</th><th scope=col>MAF</th><th scope=col>L2</th></tr>\n",
       "\t<tr><th scope=col>&lt;dbl&gt;</th><th scope=col>&lt;chr&gt;</th><th scope=col>&lt;dbl&gt;</th><th scope=col>&lt;dbl&gt;</th><th scope=col>&lt;dbl&gt;</th><th scope=col>&lt;dbl&gt;</th></tr>\n",
       "</thead>\n",
       "<tbody>\n",
       "\t<tr><td>1</td><td>rs12565286</td><td>721290</td><td>0.4102920</td><td>0.04353562</td><td>1.244134</td></tr>\n",
       "\t<tr><td>1</td><td>rs3094315 </td><td>752566</td><td>0.4887759</td><td>0.16358839</td><td>6.408547</td></tr>\n",
       "\t<tr><td>1</td><td>rs3131972 </td><td>752721</td><td>0.4888678</td><td>0.16754617</td><td>6.282501</td></tr>\n",
       "\t<tr><td>1</td><td>rs3131969 </td><td>754182</td><td>0.4897337</td><td>0.13324538</td><td>6.251752</td></tr>\n",
       "\t<tr><td>1</td><td>rs1048488 </td><td>760912</td><td>0.4925073</td><td>0.20316623</td><td>6.482785</td></tr>\n",
       "</tbody>\n",
       "</table>\n"
      ],
      "text/latex": [
       "A tibble: 5 × 6\n",
       "\\begin{tabular}{llllll}\n",
       " CHR & SNP & BP & CM & MAF & L2\\\\\n",
       " <dbl> & <chr> & <dbl> & <dbl> & <dbl> & <dbl>\\\\\n",
       "\\hline\n",
       "\t 1 & rs12565286 & 721290 & 0.4102920 & 0.04353562 & 1.244134\\\\\n",
       "\t 1 & rs3094315  & 752566 & 0.4887759 & 0.16358839 & 6.408547\\\\\n",
       "\t 1 & rs3131972  & 752721 & 0.4888678 & 0.16754617 & 6.282501\\\\\n",
       "\t 1 & rs3131969  & 754182 & 0.4897337 & 0.13324538 & 6.251752\\\\\n",
       "\t 1 & rs1048488  & 760912 & 0.4925073 & 0.20316623 & 6.482785\\\\\n",
       "\\end{tabular}\n"
      ],
      "text/markdown": [
       "\n",
       "A tibble: 5 × 6\n",
       "\n",
       "| CHR &lt;dbl&gt; | SNP &lt;chr&gt; | BP &lt;dbl&gt; | CM &lt;dbl&gt; | MAF &lt;dbl&gt; | L2 &lt;dbl&gt; |\n",
       "|---|---|---|---|---|---|\n",
       "| 1 | rs12565286 | 721290 | 0.4102920 | 0.04353562 | 1.244134 |\n",
       "| 1 | rs3094315  | 752566 | 0.4887759 | 0.16358839 | 6.408547 |\n",
       "| 1 | rs3131972  | 752721 | 0.4888678 | 0.16754617 | 6.282501 |\n",
       "| 1 | rs3131969  | 754182 | 0.4897337 | 0.13324538 | 6.251752 |\n",
       "| 1 | rs1048488  | 760912 | 0.4925073 | 0.20316623 | 6.482785 |\n",
       "\n"
      ],
      "text/plain": [
       "  CHR SNP        BP     CM        MAF        L2      \n",
       "1 1   rs12565286 721290 0.4102920 0.04353562 1.244134\n",
       "2 1   rs3094315  752566 0.4887759 0.16358839 6.408547\n",
       "3 1   rs3131972  752721 0.4888678 0.16754617 6.282501\n",
       "4 1   rs3131969  754182 0.4897337 0.13324538 6.251752\n",
       "5 1   rs1048488  760912 0.4925073 0.20316623 6.482785"
      ]
     },
     "metadata": {},
     "output_type": "display_data"
    }
   ],
   "source": [
    "# Download LD score data from Broad Institute\n",
    "# wget https://data.broadinstitute.org/alkesgroup/LDSCORE/w_hm3.snplist.bz2\n",
    "file_ldsc <- \"eur_w_ld_chr\"\n",
    "\n",
    "# format LD score data\n",
    "ldsc <- format_ldsc(file_ldsc)\n",
    "head(ldsc, n = 5)"
   ]
  },
  {
   "cell_type": "code",
   "execution_count": 5,
   "id": "f6025250",
   "metadata": {
    "scrolled": true
   },
   "outputs": [
    {
     "name": "stderr",
     "output_type": "stream",
     "text": [
      "Begin LD score regression...\n",
      "\n"
     ]
    },
    {
     "name": "stdout",
     "output_type": "stream",
     "text": [
      "Trait 1 has been analyzed.\n"
     ]
    },
    {
     "name": "stderr",
     "output_type": "stream",
     "text": [
      "Begin LD score regression...\n",
      "\n"
     ]
    },
    {
     "name": "stdout",
     "output_type": "stream",
     "text": [
      "Trait 2 has been analyzed.\n"
     ]
    },
    {
     "name": "stderr",
     "output_type": "stream",
     "text": [
      "Begin LD score regression...\n",
      "\n"
     ]
    },
    {
     "name": "stdout",
     "output_type": "stream",
     "text": [
      "Trait 3 has been analyzed.\n"
     ]
    },
    {
     "name": "stderr",
     "output_type": "stream",
     "text": [
      "Begin LD score regression...\n",
      "\n"
     ]
    },
    {
     "name": "stdout",
     "output_type": "stream",
     "text": [
      "Trait 4 has been analyzed.\n"
     ]
    },
    {
     "name": "stderr",
     "output_type": "stream",
     "text": [
      "Begin LD score regression...\n",
      "\n"
     ]
    },
    {
     "name": "stdout",
     "output_type": "stream",
     "text": [
      "Trait 5 has been analyzed.\n"
     ]
    },
    {
     "name": "stderr",
     "output_type": "stream",
     "text": [
      "Begin LD score regression...\n",
      "\n"
     ]
    },
    {
     "name": "stdout",
     "output_type": "stream",
     "text": [
      "Trait 6 has been analyzed.\n"
     ]
    },
    {
     "name": "stderr",
     "output_type": "stream",
     "text": [
      "Begin LD score regression...\n",
      "\n"
     ]
    },
    {
     "name": "stdout",
     "output_type": "stream",
     "text": [
      "Trait 7 has been analyzed.\n"
     ]
    },
    {
     "name": "stderr",
     "output_type": "stream",
     "text": [
      "Begin LD score regression...\n",
      "\n"
     ]
    },
    {
     "name": "stdout",
     "output_type": "stream",
     "text": [
      "Trait 8 has been analyzed.\n"
     ]
    },
    {
     "name": "stderr",
     "output_type": "stream",
     "text": [
      "Begin LD score regression...\n",
      "\n"
     ]
    },
    {
     "name": "stdout",
     "output_type": "stream",
     "text": [
      "Trait 9 has been analyzed.\n"
     ]
    },
    {
     "name": "stderr",
     "output_type": "stream",
     "text": [
      "Begin LD score regression...\n",
      "\n"
     ]
    },
    {
     "name": "stdout",
     "output_type": "stream",
     "text": [
      "Trait 10 has been analyzed.\n"
     ]
    }
   ],
   "source": [
    "# result list of LD score regression\n",
    "ldsc_list <- list()\n",
    "\n",
    "for(i in 1:length(trait_name)){\n",
    "    sumstats <- read_delim(format_name[i], show_col_types = FALSE)\n",
    "    ldsc_i <- ldsc_fit(sumstats, ldsc)\n",
    "    cat(\"Trait\", i, \"has been analyzed.\\n\")\n",
    "    ldsc_list <- c(ldsc_list, list(ldsc_i))\n",
    "}"
   ]
  },
  {
   "cell_type": "code",
   "execution_count": 6,
   "id": "02afa1f2",
   "metadata": {},
   "outputs": [
    {
     "data": {
      "text/html": [
       "<table class=\"dataframe\">\n",
       "<caption>A matrix: 10 × 3 of type chr</caption>\n",
       "<thead>\n",
       "\t<tr><th scope=col>Trait</th><th scope=col>h2</th><th scope=col>se</th></tr>\n",
       "</thead>\n",
       "<tbody>\n",
       "\t<tr><td>Angina      </td><td>0.022</td><td>0.002</td></tr>\n",
       "\t<tr><td>BMI         </td><td>0.238</td><td>0.008</td></tr>\n",
       "\t<tr><td>Depression  </td><td>0.051</td><td>0.003</td></tr>\n",
       "\t<tr><td>Hair        </td><td>0.064</td><td>0.009</td></tr>\n",
       "\t<tr><td>HBP         </td><td>0.125</td><td>0.005</td></tr>\n",
       "\t<tr><td>Height      </td><td>0.457</td><td>0.019</td></tr>\n",
       "\t<tr><td>Income      </td><td>0.069</td><td>0.004</td></tr>\n",
       "\t<tr><td>Intelligence</td><td>0.195</td><td>0.01 </td></tr>\n",
       "\t<tr><td>MDD         </td><td>0.019</td><td>0.002</td></tr>\n",
       "\t<tr><td>Tanning     </td><td>0.119</td><td>0.016</td></tr>\n",
       "</tbody>\n",
       "</table>\n"
      ],
      "text/latex": [
       "A matrix: 10 × 3 of type chr\n",
       "\\begin{tabular}{lll}\n",
       " Trait & h2 & se\\\\\n",
       "\\hline\n",
       "\t Angina       & 0.022 & 0.002\\\\\n",
       "\t BMI          & 0.238 & 0.008\\\\\n",
       "\t Depression   & 0.051 & 0.003\\\\\n",
       "\t Hair         & 0.064 & 0.009\\\\\n",
       "\t HBP          & 0.125 & 0.005\\\\\n",
       "\t Height       & 0.457 & 0.019\\\\\n",
       "\t Income       & 0.069 & 0.004\\\\\n",
       "\t Intelligence & 0.195 & 0.01 \\\\\n",
       "\t MDD          & 0.019 & 0.002\\\\\n",
       "\t Tanning      & 0.119 & 0.016\\\\\n",
       "\\end{tabular}\n"
      ],
      "text/markdown": [
       "\n",
       "A matrix: 10 × 3 of type chr\n",
       "\n",
       "| Trait | h2 | se |\n",
       "|---|---|---|\n",
       "| Angina       | 0.022 | 0.002 |\n",
       "| BMI          | 0.238 | 0.008 |\n",
       "| Depression   | 0.051 | 0.003 |\n",
       "| Hair         | 0.064 | 0.009 |\n",
       "| HBP          | 0.125 | 0.005 |\n",
       "| Height       | 0.457 | 0.019 |\n",
       "| Income       | 0.069 | 0.004 |\n",
       "| Intelligence | 0.195 | 0.01  |\n",
       "| MDD          | 0.019 | 0.002 |\n",
       "| Tanning      | 0.119 | 0.016 |\n",
       "\n"
      ],
      "text/plain": [
       "      Trait        h2    se   \n",
       " [1,] Angina       0.022 0.002\n",
       " [2,] BMI          0.238 0.008\n",
       " [3,] Depression   0.051 0.003\n",
       " [4,] Hair         0.064 0.009\n",
       " [5,] HBP          0.125 0.005\n",
       " [6,] Height       0.457 0.019\n",
       " [7,] Income       0.069 0.004\n",
       " [8,] Intelligence 0.195 0.01 \n",
       " [9,] MDD          0.019 0.002\n",
       "[10,] Tanning      0.119 0.016"
      ]
     },
     "metadata": {},
     "output_type": "display_data"
    }
   ],
   "source": [
    "ldsc <- t(sapply(ldsc_list,\n",
    "                 FUN = function(x){c(h2 = round(x$h2, 3), se = round(x$h2_se, 3))}))\n",
    "ldsc <- cbind(Trait = trait_name, ldsc)\n",
    "ldsc"
   ]
  },
  {
   "cell_type": "code",
   "execution_count": 7,
   "id": "80f59570",
   "metadata": {},
   "outputs": [],
   "source": [
    "save(ldsc, file = \"out/ldsc.rda\")"
   ]
  }
 ],
 "metadata": {
  "kernelspec": {
   "display_name": "R",
   "language": "R",
   "name": "ir"
  },
  "language_info": {
   "codemirror_mode": "r",
   "file_extension": ".r",
   "mimetype": "text/x-r-source",
   "name": "R",
   "pygments_lexer": "r",
   "version": "4.0.5"
  }
 },
 "nbformat": 4,
 "nbformat_minor": 5
}

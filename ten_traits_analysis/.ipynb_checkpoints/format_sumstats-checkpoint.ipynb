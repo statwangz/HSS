{
 "cells": [
  {
   "cell_type": "code",
   "execution_count": 1,
   "id": "cd1a8ddd",
   "metadata": {},
   "outputs": [
    {
     "data": {
      "text/html": [
       "'/import/home/share/zw/HSS'"
      ],
      "text/latex": [
       "'/import/home/share/zw/HSS'"
      ],
      "text/markdown": [
       "'/import/home/share/zw/HSS'"
      ],
      "text/plain": [
       "[1] \"/import/home/share/zw/HSS\""
      ]
     },
     "metadata": {},
     "output_type": "display_data"
    }
   ],
   "source": [
    "setwd(\"/import/home/share/zw/HSS\")\n",
    "getwd()"
   ]
  },
  {
   "cell_type": "code",
   "execution_count": 2,
   "id": "dcb84047",
   "metadata": {},
   "outputs": [
    {
     "name": "stderr",
     "output_type": "stream",
     "text": [
      "Skipping install of 'HSS' from a github remote, the SHA1 (38e9d540) has not changed since last install.\n",
      "  Use `force = TRUE` to force installation\n",
      "\n",
      "Loading required package: tidyverse\n",
      "\n",
      "── \u001b[1mAttaching packages\u001b[22m ─────────────────────────────────────── tidyverse 1.3.1 ──\n",
      "\n",
      "\u001b[32m✔\u001b[39m \u001b[34mggplot2\u001b[39m 3.3.5     \u001b[32m✔\u001b[39m \u001b[34mpurrr  \u001b[39m 0.3.4\n",
      "\u001b[32m✔\u001b[39m \u001b[34mtibble \u001b[39m 3.1.6     \u001b[32m✔\u001b[39m \u001b[34mdplyr  \u001b[39m 1.0.7\n",
      "\u001b[32m✔\u001b[39m \u001b[34mtidyr  \u001b[39m 1.1.4     \u001b[32m✔\u001b[39m \u001b[34mstringr\u001b[39m 1.4.0\n",
      "\u001b[32m✔\u001b[39m \u001b[34mreadr  \u001b[39m 2.1.1     \u001b[32m✔\u001b[39m \u001b[34mforcats\u001b[39m 0.5.1\n",
      "\n",
      "── \u001b[1mConflicts\u001b[22m ────────────────────────────────────────── tidyverse_conflicts() ──\n",
      "\u001b[31m✖\u001b[39m \u001b[34mdplyr\u001b[39m::\u001b[32mfilter()\u001b[39m masks \u001b[34mstats\u001b[39m::filter()\n",
      "\u001b[31m✖\u001b[39m \u001b[34mdplyr\u001b[39m::\u001b[32mlag()\u001b[39m    masks \u001b[34mstats\u001b[39m::lag()\n",
      "\n",
      "Loading required package: genio\n",
      "\n"
     ]
    }
   ],
   "source": [
    "# install.packages(\"devtools\")\n",
    "devtools::install_github(\"statwangz/HSS\")\n",
    "library(HSS)"
   ]
  },
  {
   "cell_type": "code",
   "execution_count": 3,
   "id": "2c47c31b",
   "metadata": {},
   "outputs": [
    {
     "data": {
      "text/html": [
       "<table class=\"dataframe\">\n",
       "<caption>A tibble: 10 × 3</caption>\n",
       "<thead>\n",
       "\t<tr><th scope=col>Trait</th><th scope=col>PMID</th><th scope=col>Description</th></tr>\n",
       "\t<tr><th scope=col>&lt;chr&gt;</th><th scope=col>&lt;dbl&gt;</th><th scope=col>&lt;chr&gt;</th></tr>\n",
       "</thead>\n",
       "<tbody>\n",
       "\t<tr><td>Angina      </td><td>31427789</td><td>Vascular/heart problems diagnosed by doctor: Angina                       </td></tr>\n",
       "\t<tr><td>BMI         </td><td>31427789</td><td>Body Mass Index                                                           </td></tr>\n",
       "\t<tr><td>Depression  </td><td>29942085</td><td>Depressive symptoms                                                       </td></tr>\n",
       "\t<tr><td>Hair        </td><td>31427789</td><td>Hair colour (natural, before greying): Black                              </td></tr>\n",
       "\t<tr><td>HBP         </td><td>31427789</td><td>Vascular/heart problems diagnosed by doctor: High blood pressure          </td></tr>\n",
       "\t<tr><td>Height      </td><td>31427789</td><td>Standing height                                                           </td></tr>\n",
       "\t<tr><td>Income      </td><td>31427789</td><td>Average total household income before tax                                 </td></tr>\n",
       "\t<tr><td>Intelligence</td><td>31427789</td><td>Fluid intelligence test - Fluid intelligence score                        </td></tr>\n",
       "\t<tr><td>MDD         </td><td>31427789</td><td>Diagnoses - secondary ICD10: F32 Major depressive disorder, single episode</td></tr>\n",
       "\t<tr><td>Tanning     </td><td>31427789</td><td>Ease of skin tanning                                                      </td></tr>\n",
       "</tbody>\n",
       "</table>\n"
      ],
      "text/latex": [
       "A tibble: 10 × 3\n",
       "\\begin{tabular}{lll}\n",
       " Trait & PMID & Description\\\\\n",
       " <chr> & <dbl> & <chr>\\\\\n",
       "\\hline\n",
       "\t Angina       & 31427789 & Vascular/heart problems diagnosed by doctor: Angina                       \\\\\n",
       "\t BMI          & 31427789 & Body Mass Index                                                           \\\\\n",
       "\t Depression   & 29942085 & Depressive symptoms                                                       \\\\\n",
       "\t Hair         & 31427789 & Hair colour (natural, before greying): Black                              \\\\\n",
       "\t HBP          & 31427789 & Vascular/heart problems diagnosed by doctor: High blood pressure          \\\\\n",
       "\t Height       & 31427789 & Standing height                                                           \\\\\n",
       "\t Income       & 31427789 & Average total household income before tax                                 \\\\\n",
       "\t Intelligence & 31427789 & Fluid intelligence test - Fluid intelligence score                        \\\\\n",
       "\t MDD          & 31427789 & Diagnoses - secondary ICD10: F32 Major depressive disorder, single episode\\\\\n",
       "\t Tanning      & 31427789 & Ease of skin tanning                                                      \\\\\n",
       "\\end{tabular}\n"
      ],
      "text/markdown": [
       "\n",
       "A tibble: 10 × 3\n",
       "\n",
       "| Trait &lt;chr&gt; | PMID &lt;dbl&gt; | Description &lt;chr&gt; |\n",
       "|---|---|---|\n",
       "| Angina       | 31427789 | Vascular/heart problems diagnosed by doctor: Angina                        |\n",
       "| BMI          | 31427789 | Body Mass Index                                                            |\n",
       "| Depression   | 29942085 | Depressive symptoms                                                        |\n",
       "| Hair         | 31427789 | Hair colour (natural, before greying): Black                               |\n",
       "| HBP          | 31427789 | Vascular/heart problems diagnosed by doctor: High blood pressure           |\n",
       "| Height       | 31427789 | Standing height                                                            |\n",
       "| Income       | 31427789 | Average total household income before tax                                  |\n",
       "| Intelligence | 31427789 | Fluid intelligence test - Fluid intelligence score                         |\n",
       "| MDD          | 31427789 | Diagnoses - secondary ICD10: F32 Major depressive disorder, single episode |\n",
       "| Tanning      | 31427789 | Ease of skin tanning                                                       |\n",
       "\n"
      ],
      "text/plain": [
       "   Trait        PMID    \n",
       "1  Angina       31427789\n",
       "2  BMI          31427789\n",
       "3  Depression   29942085\n",
       "4  Hair         31427789\n",
       "5  HBP          31427789\n",
       "6  Height       31427789\n",
       "7  Income       31427789\n",
       "8  Intelligence 31427789\n",
       "9  MDD          31427789\n",
       "10 Tanning      31427789\n",
       "   Description                                                               \n",
       "1  Vascular/heart problems diagnosed by doctor: Angina                       \n",
       "2  Body Mass Index                                                           \n",
       "3  Depressive symptoms                                                       \n",
       "4  Hair colour (natural, before greying): Black                              \n",
       "5  Vascular/heart problems diagnosed by doctor: High blood pressure          \n",
       "6  Standing height                                                           \n",
       "7  Average total household income before tax                                 \n",
       "8  Fluid intelligence test - Fluid intelligence score                        \n",
       "9  Diagnoses - secondary ICD10: F32 Major depressive disorder, single episode\n",
       "10 Ease of skin tanning                                                      "
      ]
     },
     "metadata": {},
     "output_type": "display_data"
    }
   ],
   "source": [
    "# trait information\n",
    "trait_info\n",
    "\n",
    "trait_name <- trait_info$Trait\n",
    "file_name <- paste0(trait_name, \".EUR.sumstats.txt.gz\")\n",
    "format_name <- paste0(\"sumstats/\", trait_name, \"_sumstats.txt\")"
   ]
  },
  {
   "cell_type": "code",
   "execution_count": 4,
   "id": "ee42d8bc",
   "metadata": {},
   "outputs": [
    {
     "name": "stderr",
     "output_type": "stream",
     "text": [
      "\u001b[1mRows: \u001b[22m\u001b[34m1217311\u001b[39m \u001b[1mColumns: \u001b[22m\u001b[34m3\u001b[39m\n",
      "\n",
      "\u001b[36m──\u001b[39m \u001b[1mColumn specification\u001b[22m \u001b[36m────────────────────────────────────────────────────────\u001b[39m\n",
      "\u001b[1mDelimiter:\u001b[22m \"\\t\"\n",
      "\u001b[31mchr\u001b[39m (3): SNP, A1, A2\n",
      "\n",
      "\n",
      "\u001b[36mℹ\u001b[39m Use \u001b[30m\u001b[47m\u001b[30m\u001b[47m`spec()`\u001b[47m\u001b[30m\u001b[49m\u001b[39m to retrieve the full column specification for this data.\n",
      "\u001b[36mℹ\u001b[39m Specify the column types or set \u001b[30m\u001b[47m\u001b[30m\u001b[47m`show_col_types = FALSE`\u001b[47m\u001b[30m\u001b[49m\u001b[39m to quiet this message.\n",
      "\n"
     ]
    },
    {
     "data": {
      "text/html": [
       "<table class=\"dataframe\">\n",
       "<caption>A tibble: 5 × 3</caption>\n",
       "<thead>\n",
       "\t<tr><th scope=col>SNP</th><th scope=col>A1</th><th scope=col>A2</th></tr>\n",
       "\t<tr><th scope=col>&lt;chr&gt;</th><th scope=col>&lt;chr&gt;</th><th scope=col>&lt;chr&gt;</th></tr>\n",
       "</thead>\n",
       "<tbody>\n",
       "\t<tr><td>rs3094315</td><td>G</td><td>A</td></tr>\n",
       "\t<tr><td>rs3131972</td><td>A</td><td>G</td></tr>\n",
       "\t<tr><td>rs3131969</td><td>A</td><td>G</td></tr>\n",
       "\t<tr><td>rs1048488</td><td>C</td><td>T</td></tr>\n",
       "\t<tr><td>rs3115850</td><td>T</td><td>C</td></tr>\n",
       "</tbody>\n",
       "</table>\n"
      ],
      "text/latex": [
       "A tibble: 5 × 3\n",
       "\\begin{tabular}{lll}\n",
       " SNP & A1 & A2\\\\\n",
       " <chr> & <chr> & <chr>\\\\\n",
       "\\hline\n",
       "\t rs3094315 & G & A\\\\\n",
       "\t rs3131972 & A & G\\\\\n",
       "\t rs3131969 & A & G\\\\\n",
       "\t rs1048488 & C & T\\\\\n",
       "\t rs3115850 & T & C\\\\\n",
       "\\end{tabular}\n"
      ],
      "text/markdown": [
       "\n",
       "A tibble: 5 × 3\n",
       "\n",
       "| SNP &lt;chr&gt; | A1 &lt;chr&gt; | A2 &lt;chr&gt; |\n",
       "|---|---|---|\n",
       "| rs3094315 | G | A |\n",
       "| rs3131972 | A | G |\n",
       "| rs3131969 | A | G |\n",
       "| rs1048488 | C | T |\n",
       "| rs3115850 | T | C |\n",
       "\n"
      ],
      "text/plain": [
       "  SNP       A1 A2\n",
       "1 rs3094315 G  A \n",
       "2 rs3131972 A  G \n",
       "3 rs3131969 A  G \n",
       "4 rs1048488 C  T \n",
       "5 rs3115850 T  C "
      ]
     },
     "metadata": {},
     "output_type": "display_data"
    },
    {
     "data": {
      "text/html": [
       "<style>\n",
       ".list-inline {list-style: none; margin:0; padding: 0}\n",
       ".list-inline>li {display: inline-block}\n",
       ".list-inline>li:not(:last-child)::after {content: \"\\00b7\"; padding: 0 .5ex}\n",
       "</style>\n",
       "<ol class=list-inline><li>'rs1529749'</li><li>'rs17765491'</li><li>'rs17708949'</li><li>'rs149941'</li><li>'rs79256300'</li></ol>\n"
      ],
      "text/latex": [
       "\\begin{enumerate*}\n",
       "\\item 'rs1529749'\n",
       "\\item 'rs17765491'\n",
       "\\item 'rs17708949'\n",
       "\\item 'rs149941'\n",
       "\\item 'rs79256300'\n",
       "\\end{enumerate*}\n"
      ],
      "text/markdown": [
       "1. 'rs1529749'\n",
       "2. 'rs17765491'\n",
       "3. 'rs17708949'\n",
       "4. 'rs149941'\n",
       "5. 'rs79256300'\n",
       "\n",
       "\n"
      ],
      "text/plain": [
       "[1] \"rs1529749\"  \"rs17765491\" \"rs17708949\" \"rs149941\"   \"rs79256300\""
      ]
     },
     "metadata": {},
     "output_type": "display_data"
    }
   ],
   "source": [
    "# Download HapMap 3 data from Broad Institute\n",
    "# wget https://data.broadinstitute.org/alkesgroup/LDSCORE/eur_w_ld_chr.tar.bz2\n",
    "# read in HapMap 3 data\n",
    "w_hm3.snplist <- readr::read_delim(\"w_hm3.snplist.bz2\",  \"\\t\",\n",
    "                                   escape_double = F, trim_ws = T, progress = T)\n",
    "head(w_hm3.snplist, n =5)\n",
    "\n",
    "# MHC region SNPs data, CHR = 6 & BP > 28000000 & BP < 34000000\n",
    "snps_mhc[1:5]"
   ]
  },
  {
   "cell_type": "code",
   "execution_count": 5,
   "id": "7e137cb7",
   "metadata": {},
   "outputs": [],
   "source": [
    "# format sumstats data\n",
    "\n",
    "# Angina_sumstats <- format_sumstats(file_name[1],\n",
    "#                                    snps_merge = w_hm3.snplist,\n",
    "#                                    snps_mhc = snps_mhc,\n",
    "#                                    snp_col = \"SNPID_UKB\",\n",
    "#                                    or_col = \"OR\",\n",
    "#                                    se_col = \"SE\",\n",
    "#                                    freq_col = \"MAF_UKB\",\n",
    "#                                    a1_col = \"A1\",\n",
    "#                                    a2_col = \"A2\",\n",
    "#                                    p_col = \"P\",\n",
    "#                                    n_col = \"NMISS\",\n",
    "#                                    info_col = \"INFO_UKB\")\n",
    "# head(Angina_sumstats, n = 5)\n",
    "# write_delim(Angina_sumstats, format_name[1])\n",
    "# rm(Angina_sumstats)\n",
    "\n",
    "# BMI_sumstats <- format_sumstats(file_name[2],\n",
    "#                                 snps_merge = w_hm3.snplist,\n",
    "#                                 snps_mhc = snps_mhc,\n",
    "#                                 snp_col = \"SNPID_UKB\",\n",
    "#                                 beta_col = \"BETA\",\n",
    "#                                 se_col = \"SE\",\n",
    "#                                 freq_col = \"MAF_UKB\",\n",
    "#                                 a1_col = \"A1\",\n",
    "#                                 a2_col = \"A2\",\n",
    "#                                 p_col = \"P\",\n",
    "#                                 n_col = \"NMISS\",\n",
    "#                                 info_col = \"INFO_UKB\")\n",
    "# write_delim(BMI_sumstats, format_name[2])\n",
    "# rm(BMI_sumstats)\n",
    "\n",
    "# Depression_sumstats <- format_sumstats(file_name[3],\n",
    "#                                        snps_merge = w_hm3.snplist,\n",
    "#                                        snps_mhc = snps_mhc,\n",
    "#                                        snp_col = \"RSID\",\n",
    "#                                        freq_col = \"MAF_UKB\",\n",
    "#                                        a1_col = \"A1\",\n",
    "#                                        a2_col = \"A2\",\n",
    "#                                        z_col = \"Z\",\n",
    "#                                        p_col = \"P\",\n",
    "#                                        n_col = \"N\",\n",
    "#                                        info_col = \"INFO_UKB\")\n",
    "# write_delim(Depression_sumstats, format_name[3])\n",
    "# rm(Depression_sumstats)\n",
    "\n",
    "# Hair_sumstats <- format_sumstats(file_name[4],\n",
    "#                                  snps_merge = w_hm3.snplist,\n",
    "#                                  snps_mhc = snps_mhc,\n",
    "#                                  snp_col = \"SNPID_UKB\",\n",
    "#                                  or_col = \"OR\",\n",
    "#                                  se_col = \"SE\",\n",
    "#                                  freq_col = \"MAF_UKB\",\n",
    "#                                  a1_col = \"A1\",\n",
    "#                                  a2_col = \"A2\",\n",
    "#                                  p_col = \"P\",\n",
    "#                                  n_col = \"NMISS\",\n",
    "#                                  info_col = \"INFO_UKB\")\n",
    "# write_delim(Hair_sumstats, format_name[4])\n",
    "# rm(Hair_sumstats)\n",
    "\n",
    "# HBP_sumstats <- format_sumstats(file_name[5],\n",
    "#                                 snps_merge = w_hm3.snplist,\n",
    "#                                 snps_mhc = snps_mhc,\n",
    "#                                 snp_col = \"SNPID_UKB\",\n",
    "#                                 or_col = \"OR\",\n",
    "#                                 se_col = \"SE\",\n",
    "#                                 freq_col = \"MAF_UKB\",\n",
    "#                                 a1_col = \"A1\",\n",
    "#                                 a2_col = \"A2\",\n",
    "#                                 p_col = \"P\",\n",
    "#                                 n_col = \"NMISS\",\n",
    "#                                 info_col = \"INFO_UKB\")\n",
    "# write_delim(HBP_sumstats, format_name[5])\n",
    "# rm(HBP_sumstats)\n",
    "\n",
    "# Height_sumstats <- format_sumstats(file_name[6],\n",
    "#                                    snps_merge = w_hm3.snplist,\n",
    "#                                    snps_mhc = snps_mhc,\n",
    "#                                    snp_col = \"SNPID_UKB\",\n",
    "#                                    beta_col = \"BETA\",\n",
    "#                                    se_col = \"SE\",\n",
    "#                                    freq_col = \"MAF\",\n",
    "#                                    a1_col = \"A1\",\n",
    "#                                    a2_col = \"A2\",\n",
    "#                                    p_col = \"P\",\n",
    "#                                    n_col = \"NMISS\",\n",
    "#                                    info_col = \"INFO_UKB\")\n",
    "# write_delim(Height_sumstats, format_name[6])\n",
    "# rm(Height_sumstats)\n",
    "\n",
    "# Income_sumstats <- format_sumstats(file_name[7],\n",
    "#                                    snps_merge = w_hm3.snplist,\n",
    "#                                    snps_mhc = snps_mhc,\n",
    "#                                    snp_col = \"SNPID_UKB\",\n",
    "#                                    beta_col = \"BETA\",\n",
    "#                                    se_col = \"SE\",\n",
    "#                                    freq_col = \"MAF\",\n",
    "#                                    a1_col = \"A1\",\n",
    "#                                    a2_col = \"A2\",\n",
    "#                                    p_col = \"P\",\n",
    "#                                    n_col = \"NMISS\",\n",
    "#                                    info_col = \"INFO_UKB\")\n",
    "# write_delim(Income_sumstats, format_name[7])\n",
    "# rm(Income_sumstats)\n",
    "\n",
    "# Intelligence_sumstats <- format_sumstats(file_name[8],\n",
    "#                                          snps_merge = w_hm3.snplist,\n",
    "#                                          snps_mhc = snps_mhc,\n",
    "#                                          snp_col = \"SNPID_UKB\",\n",
    "#                                          beta_col = \"BETA\",\n",
    "#                                          se_col = \"SE\",\n",
    "#                                          freq_col = \"MAF\",\n",
    "#                                          a1_col = \"A1\",\n",
    "#                                          a2_col = \"A2\",\n",
    "#                                          p_col = \"P\",\n",
    "#                                          n_col = \"NMISS\",\n",
    "#                                          info_col = \"INFO_UKB\")\n",
    "# write_delim(Intelligence_sumstats, format_name[8])\n",
    "# rm(Intelligence_sumstats)\n",
    "\n",
    "# MDD_sumstats <- format_sumstats(file_name[9],\n",
    "#                                 snps_merge = w_hm3.snplist,\n",
    "#                                 snps_mhc = snps_mhc,\n",
    "#                                 snp_col = \"SNPID_UKB\",\n",
    "#                                 or_col = \"OR\",\n",
    "#                                 se_col = \"SE\",\n",
    "#                                 freq_col = \"MAF\",\n",
    "#                                 a1_col = \"A1\",\n",
    "#                                 a2_col = \"A2\",\n",
    "#                                 p_col = \"P\",\n",
    "#                                 n_col = \"NMISS\",\n",
    "#                                 info_col = \"INFO_UKB\")\n",
    "# write_delim(MDD_sumstats, format_name[9])\n",
    "# rm(MDD_sumstats)\n",
    "\n",
    "# Tanning_sumstats <- format_sumstats(file_name[10],\n",
    "#                                     snps_merge = w_hm3.snplist,\n",
    "#                                     snps_mhc = snps_mhc,\n",
    "#                                     snp_col = \"SNPID_UKB\",\n",
    "#                                     or_col = \"BETA\",\n",
    "#                                     se_col = \"SE\",\n",
    "#                                     freq_col = \"MAF\",\n",
    "#                                     a1_col = \"A1\",\n",
    "#                                     a2_col = \"A2\",\n",
    "#                                     p_col = \"P\",\n",
    "#                                     n_col = \"NMISS\",\n",
    "#                                     info_col = \"INFO_UKB\")\n",
    "# write_delim(Tanning_sumstats, format_name[10])\n",
    "# rm(Tanning_sumstats)"
   ]
  }
 ],
 "metadata": {
  "kernelspec": {
   "display_name": "R",
   "language": "R",
   "name": "ir"
  },
  "language_info": {
   "codemirror_mode": "r",
   "file_extension": ".r",
   "mimetype": "text/x-r-source",
   "name": "R",
   "pygments_lexer": "r",
   "version": "4.0.5"
  }
 },
 "nbformat": 4,
 "nbformat_minor": 5
}

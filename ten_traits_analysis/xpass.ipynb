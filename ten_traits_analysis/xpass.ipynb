{
 "cells": [
  {
   "cell_type": "code",
   "execution_count": 1,
   "id": "782eb896",
   "metadata": {},
   "outputs": [
    {
     "data": {
      "text/html": [
       "'/import/home/share/zw/HSS'"
      ],
      "text/latex": [
       "'/import/home/share/zw/HSS'"
      ],
      "text/markdown": [
       "'/import/home/share/zw/HSS'"
      ],
      "text/plain": [
       "[1] \"/import/home/share/zw/HSS\""
      ]
     },
     "metadata": {},
     "output_type": "display_data"
    }
   ],
   "source": [
    "setwd(\"/import/home/share/zw/HSS\")\n",
    "getwd()"
   ]
  },
  {
   "cell_type": "code",
   "execution_count": 2,
   "id": "3683b709",
   "metadata": {},
   "outputs": [
    {
     "name": "stderr",
     "output_type": "stream",
     "text": [
      "Loading required package: tidyverse\n",
      "\n",
      "── \u001b[1mAttaching packages\u001b[22m ─────────────────────────────────────── tidyverse 1.3.1 ──\n",
      "\n",
      "\u001b[32m✔\u001b[39m \u001b[34mggplot2\u001b[39m 3.3.5     \u001b[32m✔\u001b[39m \u001b[34mpurrr  \u001b[39m 0.3.4\n",
      "\u001b[32m✔\u001b[39m \u001b[34mtibble \u001b[39m 3.1.6     \u001b[32m✔\u001b[39m \u001b[34mdplyr  \u001b[39m 1.0.7\n",
      "\u001b[32m✔\u001b[39m \u001b[34mtidyr  \u001b[39m 1.1.4     \u001b[32m✔\u001b[39m \u001b[34mstringr\u001b[39m 1.4.0\n",
      "\u001b[32m✔\u001b[39m \u001b[34mreadr  \u001b[39m 2.1.1     \u001b[32m✔\u001b[39m \u001b[34mforcats\u001b[39m 0.5.1\n",
      "\n",
      "── \u001b[1mConflicts\u001b[22m ────────────────────────────────────────── tidyverse_conflicts() ──\n",
      "\u001b[31m✖\u001b[39m \u001b[34mdplyr\u001b[39m::\u001b[32mfilter()\u001b[39m masks \u001b[34mstats\u001b[39m::filter()\n",
      "\u001b[31m✖\u001b[39m \u001b[34mdplyr\u001b[39m::\u001b[32mlag()\u001b[39m    masks \u001b[34mstats\u001b[39m::lag()\n",
      "\n",
      "Loading required package: genio\n",
      "\n"
     ]
    }
   ],
   "source": [
    "# install.packages(\"devtools\")\n",
    "# devtools::install_github(\"statwangz/HSS\")\n",
    "library(HSS)"
   ]
  },
  {
   "cell_type": "code",
   "execution_count": 3,
   "id": "453baee2",
   "metadata": {},
   "outputs": [],
   "source": [
    "# trait information\n",
    "trait_name <- trait_info$Trait\n",
    "format_name <- paste0(\"sumstats/\", trait_name, \"_sumstats.txt\")"
   ]
  },
  {
   "cell_type": "code",
   "execution_count": 4,
   "id": "5b194ca2",
   "metadata": {},
   "outputs": [
    {
     "name": "stderr",
     "output_type": "stream",
     "text": [
      "Reading: 1000G.EUR.QC.hm3.ind.bim\n",
      "\n",
      "Reading: 1000G.EUR.QC.hm3.ind.fam\n",
      "\n",
      "Reading: 1000G.EUR.QC.hm3.ind.bed\n",
      "\n"
     ]
    },
    {
     "data": {
      "text/html": [
       "<table class=\"dataframe\">\n",
       "<caption>A tibble: 6 × 2</caption>\n",
       "<thead>\n",
       "\t<tr><th scope=col>SNP</th><th scope=col>GROUP</th></tr>\n",
       "\t<tr><th scope=col>&lt;chr&gt;</th><th scope=col>&lt;dbl&gt;</th></tr>\n",
       "</thead>\n",
       "<tbody>\n",
       "\t<tr><td>rs12565286</td><td>1</td></tr>\n",
       "\t<tr><td>rs3094315 </td><td>1</td></tr>\n",
       "\t<tr><td>rs3131972 </td><td>1</td></tr>\n",
       "\t<tr><td>rs3115860 </td><td>1</td></tr>\n",
       "\t<tr><td>rs3131969 </td><td>1</td></tr>\n",
       "\t<tr><td>rs3131967 </td><td>1</td></tr>\n",
       "</tbody>\n",
       "</table>\n"
      ],
      "text/latex": [
       "A tibble: 6 × 2\n",
       "\\begin{tabular}{ll}\n",
       " SNP & GROUP\\\\\n",
       " <chr> & <dbl>\\\\\n",
       "\\hline\n",
       "\t rs12565286 & 1\\\\\n",
       "\t rs3094315  & 1\\\\\n",
       "\t rs3131972  & 1\\\\\n",
       "\t rs3115860  & 1\\\\\n",
       "\t rs3131969  & 1\\\\\n",
       "\t rs3131967  & 1\\\\\n",
       "\\end{tabular}\n"
      ],
      "text/markdown": [
       "\n",
       "A tibble: 6 × 2\n",
       "\n",
       "| SNP &lt;chr&gt; | GROUP &lt;dbl&gt; |\n",
       "|---|---|\n",
       "| rs12565286 | 1 |\n",
       "| rs3094315  | 1 |\n",
       "| rs3131972  | 1 |\n",
       "| rs3115860  | 1 |\n",
       "| rs3131969  | 1 |\n",
       "| rs3131967  | 1 |\n",
       "\n"
      ],
      "text/plain": [
       "  SNP        GROUP\n",
       "1 rs12565286 1    \n",
       "2 rs3094315  1    \n",
       "3 rs3131972  1    \n",
       "4 rs3115860  1    \n",
       "5 rs3131969  1    \n",
       "6 rs3131967  1    "
      ]
     },
     "metadata": {},
     "output_type": "display_data"
    },
    {
     "data": {
      "text/html": [
       "<table class=\"dataframe\">\n",
       "<caption>A matrix: 6 × 25 of type dbl</caption>\n",
       "<thead>\n",
       "\t<tr><th scope=col>V1</th><th scope=col>V2</th><th scope=col>V3</th><th scope=col>V4</th><th scope=col>V5</th><th scope=col>V6</th><th scope=col>V7</th><th scope=col>V8</th><th scope=col>V9</th><th scope=col>V10</th><th scope=col>⋯</th><th scope=col>V16</th><th scope=col>V17</th><th scope=col>V18</th><th scope=col>V19</th><th scope=col>V20</th><th scope=col>V21</th><th scope=col>V22</th><th scope=col>V23</th><th scope=col>V24</th><th scope=col>V25</th></tr>\n",
       "</thead>\n",
       "<tbody>\n",
       "\t<tr><td>0.0290072</td><td>0.0717627</td><td>-0.03140290</td><td> 0.03173160</td><td> 0.0618357</td><td>0.0385132</td><td> 0.1228570</td><td>-0.0289581</td><td>-0.01142670</td><td>-0.02059260</td><td>⋯</td><td> 0.01096610</td><td>-0.0214763</td><td> 0.0014544</td><td> 0.01829440</td><td> 0.0399625</td><td>0</td><td>0</td><td>1</td><td>0</td><td>0</td></tr>\n",
       "\t<tr><td>0.0378568</td><td>0.0499758</td><td>-0.00811504</td><td> 0.03630210</td><td>-0.0579984</td><td>0.0422509</td><td> 0.1412790</td><td>-0.0167868</td><td>-0.01819990</td><td> 0.01655930</td><td>⋯</td><td>-0.06664620</td><td>-0.0787379</td><td> 0.0136196</td><td> 0.10893300</td><td> 0.0801246</td><td>1</td><td>0</td><td>1</td><td>0</td><td>0</td></tr>\n",
       "\t<tr><td>0.0417318</td><td>0.0732938</td><td>-0.04095080</td><td> 0.01768720</td><td> 0.0801957</td><td>0.0124742</td><td> 0.0252689</td><td>-0.0444921</td><td>-0.00305238</td><td> 0.00355350</td><td>⋯</td><td>-0.02072230</td><td> 0.0415044</td><td> 0.0494025</td><td> 0.02138370</td><td>-0.0021093</td><td>1</td><td>0</td><td>1</td><td>0</td><td>0</td></tr>\n",
       "\t<tr><td>0.0348071</td><td>0.0715395</td><td>-0.02660580</td><td> 0.00280025</td><td>-0.0166164</td><td>0.0440144</td><td> 0.1357090</td><td> 0.0173640</td><td> 0.02765640</td><td>-0.00286321</td><td>⋯</td><td>-0.00999033</td><td> 0.0186435</td><td>-0.0699027</td><td> 0.00791191</td><td>-0.0131168</td><td>0</td><td>0</td><td>1</td><td>0</td><td>0</td></tr>\n",
       "\t<tr><td>0.0444763</td><td>0.0713348</td><td> 0.00162451</td><td>-0.01078050</td><td> 0.0868909</td><td>0.0218014</td><td> 0.0314216</td><td>-0.0429928</td><td>-0.01379370</td><td> 0.00913544</td><td>⋯</td><td>-0.01644970</td><td> 0.0523967</td><td>-0.0861731</td><td>-0.03889300</td><td> 0.0281660</td><td>1</td><td>0</td><td>1</td><td>0</td><td>0</td></tr>\n",
       "\t<tr><td>0.0300713</td><td>0.0522082</td><td>-0.01169970</td><td>-0.02999400</td><td> 0.0539977</td><td>0.0162067</td><td>-0.0522507</td><td> 0.0022036</td><td> 0.02554710</td><td> 0.01290120</td><td>⋯</td><td> 0.11667200</td><td> 0.0267188</td><td> 0.0451948</td><td> 0.00288655</td><td>-0.0427304</td><td>0</td><td>0</td><td>1</td><td>0</td><td>0</td></tr>\n",
       "</tbody>\n",
       "</table>\n"
      ],
      "text/latex": [
       "A matrix: 6 × 25 of type dbl\n",
       "\\begin{tabular}{lllllllllllllllllllll}\n",
       " V1 & V2 & V3 & V4 & V5 & V6 & V7 & V8 & V9 & V10 & ⋯ & V16 & V17 & V18 & V19 & V20 & V21 & V22 & V23 & V24 & V25\\\\\n",
       "\\hline\n",
       "\t 0.0290072 & 0.0717627 & -0.03140290 &  0.03173160 &  0.0618357 & 0.0385132 &  0.1228570 & -0.0289581 & -0.01142670 & -0.02059260 & ⋯ &  0.01096610 & -0.0214763 &  0.0014544 &  0.01829440 &  0.0399625 & 0 & 0 & 1 & 0 & 0\\\\\n",
       "\t 0.0378568 & 0.0499758 & -0.00811504 &  0.03630210 & -0.0579984 & 0.0422509 &  0.1412790 & -0.0167868 & -0.01819990 &  0.01655930 & ⋯ & -0.06664620 & -0.0787379 &  0.0136196 &  0.10893300 &  0.0801246 & 1 & 0 & 1 & 0 & 0\\\\\n",
       "\t 0.0417318 & 0.0732938 & -0.04095080 &  0.01768720 &  0.0801957 & 0.0124742 &  0.0252689 & -0.0444921 & -0.00305238 &  0.00355350 & ⋯ & -0.02072230 &  0.0415044 &  0.0494025 &  0.02138370 & -0.0021093 & 1 & 0 & 1 & 0 & 0\\\\\n",
       "\t 0.0348071 & 0.0715395 & -0.02660580 &  0.00280025 & -0.0166164 & 0.0440144 &  0.1357090 &  0.0173640 &  0.02765640 & -0.00286321 & ⋯ & -0.00999033 &  0.0186435 & -0.0699027 &  0.00791191 & -0.0131168 & 0 & 0 & 1 & 0 & 0\\\\\n",
       "\t 0.0444763 & 0.0713348 &  0.00162451 & -0.01078050 &  0.0868909 & 0.0218014 &  0.0314216 & -0.0429928 & -0.01379370 &  0.00913544 & ⋯ & -0.01644970 &  0.0523967 & -0.0861731 & -0.03889300 &  0.0281660 & 1 & 0 & 1 & 0 & 0\\\\\n",
       "\t 0.0300713 & 0.0522082 & -0.01169970 & -0.02999400 &  0.0539977 & 0.0162067 & -0.0522507 &  0.0022036 &  0.02554710 &  0.01290120 & ⋯ &  0.11667200 &  0.0267188 &  0.0451948 &  0.00288655 & -0.0427304 & 0 & 0 & 1 & 0 & 0\\\\\n",
       "\\end{tabular}\n"
      ],
      "text/markdown": [
       "\n",
       "A matrix: 6 × 25 of type dbl\n",
       "\n",
       "| V1 | V2 | V3 | V4 | V5 | V6 | V7 | V8 | V9 | V10 | ⋯ | V16 | V17 | V18 | V19 | V20 | V21 | V22 | V23 | V24 | V25 |\n",
       "|---|---|---|---|---|---|---|---|---|---|---|---|---|---|---|---|---|---|---|---|---|\n",
       "| 0.0290072 | 0.0717627 | -0.03140290 |  0.03173160 |  0.0618357 | 0.0385132 |  0.1228570 | -0.0289581 | -0.01142670 | -0.02059260 | ⋯ |  0.01096610 | -0.0214763 |  0.0014544 |  0.01829440 |  0.0399625 | 0 | 0 | 1 | 0 | 0 |\n",
       "| 0.0378568 | 0.0499758 | -0.00811504 |  0.03630210 | -0.0579984 | 0.0422509 |  0.1412790 | -0.0167868 | -0.01819990 |  0.01655930 | ⋯ | -0.06664620 | -0.0787379 |  0.0136196 |  0.10893300 |  0.0801246 | 1 | 0 | 1 | 0 | 0 |\n",
       "| 0.0417318 | 0.0732938 | -0.04095080 |  0.01768720 |  0.0801957 | 0.0124742 |  0.0252689 | -0.0444921 | -0.00305238 |  0.00355350 | ⋯ | -0.02072230 |  0.0415044 |  0.0494025 |  0.02138370 | -0.0021093 | 1 | 0 | 1 | 0 | 0 |\n",
       "| 0.0348071 | 0.0715395 | -0.02660580 |  0.00280025 | -0.0166164 | 0.0440144 |  0.1357090 |  0.0173640 |  0.02765640 | -0.00286321 | ⋯ | -0.00999033 |  0.0186435 | -0.0699027 |  0.00791191 | -0.0131168 | 0 | 0 | 1 | 0 | 0 |\n",
       "| 0.0444763 | 0.0713348 |  0.00162451 | -0.01078050 |  0.0868909 | 0.0218014 |  0.0314216 | -0.0429928 | -0.01379370 |  0.00913544 | ⋯ | -0.01644970 |  0.0523967 | -0.0861731 | -0.03889300 |  0.0281660 | 1 | 0 | 1 | 0 | 0 |\n",
       "| 0.0300713 | 0.0522082 | -0.01169970 | -0.02999400 |  0.0539977 | 0.0162067 | -0.0522507 |  0.0022036 |  0.02554710 |  0.01290120 | ⋯ |  0.11667200 |  0.0267188 |  0.0451948 |  0.00288655 | -0.0427304 | 0 | 0 | 1 | 0 | 0 |\n",
       "\n"
      ],
      "text/plain": [
       "     V1        V2        V3          V4          V5         V6       \n",
       "[1,] 0.0290072 0.0717627 -0.03140290  0.03173160  0.0618357 0.0385132\n",
       "[2,] 0.0378568 0.0499758 -0.00811504  0.03630210 -0.0579984 0.0422509\n",
       "[3,] 0.0417318 0.0732938 -0.04095080  0.01768720  0.0801957 0.0124742\n",
       "[4,] 0.0348071 0.0715395 -0.02660580  0.00280025 -0.0166164 0.0440144\n",
       "[5,] 0.0444763 0.0713348  0.00162451 -0.01078050  0.0868909 0.0218014\n",
       "[6,] 0.0300713 0.0522082 -0.01169970 -0.02999400  0.0539977 0.0162067\n",
       "     V7         V8         V9          V10         ⋯ V16         V17       \n",
       "[1,]  0.1228570 -0.0289581 -0.01142670 -0.02059260 ⋯  0.01096610 -0.0214763\n",
       "[2,]  0.1412790 -0.0167868 -0.01819990  0.01655930 ⋯ -0.06664620 -0.0787379\n",
       "[3,]  0.0252689 -0.0444921 -0.00305238  0.00355350 ⋯ -0.02072230  0.0415044\n",
       "[4,]  0.1357090  0.0173640  0.02765640 -0.00286321 ⋯ -0.00999033  0.0186435\n",
       "[5,]  0.0314216 -0.0429928 -0.01379370  0.00913544 ⋯ -0.01644970  0.0523967\n",
       "[6,] -0.0522507  0.0022036  0.02554710  0.01290120 ⋯  0.11667200  0.0267188\n",
       "     V18        V19         V20        V21 V22 V23 V24 V25\n",
       "[1,]  0.0014544  0.01829440  0.0399625 0   0   1   0   0  \n",
       "[2,]  0.0136196  0.10893300  0.0801246 1   0   1   0   0  \n",
       "[3,]  0.0494025  0.02138370 -0.0021093 1   0   1   0   0  \n",
       "[4,] -0.0699027  0.00791191 -0.0131168 0   0   1   0   0  \n",
       "[5,] -0.0861731 -0.03889300  0.0281660 1   0   1   0   0  \n",
       "[6,]  0.0451948  0.00288655 -0.0427304 0   0   1   0   0  "
      ]
     },
     "metadata": {},
     "output_type": "display_data"
    }
   ],
   "source": [
    "# download 1000 Genomes data from https://www.cog-genomics.org/plink/2.0/resources\n",
    "ref_file <- \"1000G.EUR.QC.hm3.ind\"\n",
    "# read in reference genotypes data\n",
    "X_ref <- genio::read_plink(ref_file)$X\n",
    "\n",
    "# read in LD block group data\n",
    "load(\"out/snp_group.rda\")\n",
    "head(snp_group)\n",
    "\n",
    "# read in covariates data\n",
    "covar <- as.matrix(read.table(\"1000G.EUR.QC.hm3.ind.covar.txt\", header = F))\n",
    "head(covar)"
   ]
  },
  {
   "cell_type": "code",
   "execution_count": 5,
   "id": "5df6571a",
   "metadata": {},
   "outputs": [],
   "source": [
    "# covariates used in XPASS\n",
    "Z_cov <- covar[ , 21:25]\n",
    "Z_cov_5pc <- covar[ , c(1:5, 21:25)]\n",
    "Z_cov_10pc <- covar[ , c(1:10, 21:25)]"
   ]
  },
  {
   "cell_type": "code",
   "execution_count": 6,
   "id": "3732d65d",
   "metadata": {},
   "outputs": [
    {
     "name": "stderr",
     "output_type": "stream",
     "text": [
      "The reference data set has 1313833 lines.\n",
      "\n",
      "Group the SNPs in summary statistics data...\n",
      "\n",
      "Remove missing data and merge the reference data with summary statistics data..., remaining 1022473 SNPs.\n",
      "\n",
      "Merge the summary statistics data with reference data..., remaining 1022473 SNPs.\n",
      "\n",
      "Begin XPASS estimate...\n",
      "\n",
      "Begin XPASS estimate...\n",
      "\n",
      "Begin XPASS estimate...\n",
      "\n",
      "Begin XPASS estimate...\n",
      "\n"
     ]
    },
    {
     "name": "stdout",
     "output_type": "stream",
     "text": [
      "Trait 1 has been analyzed.\n"
     ]
    },
    {
     "name": "stderr",
     "output_type": "stream",
     "text": [
      "The reference data set has 1313833 lines.\n",
      "\n",
      "Group the SNPs in summary statistics data...\n",
      "\n",
      "Remove missing data and merge the reference data with summary statistics data..., remaining 1022449 SNPs.\n",
      "\n",
      "Merge the summary statistics data with reference data..., remaining 1022449 SNPs.\n",
      "\n",
      "Begin XPASS estimate...\n",
      "\n",
      "Begin XPASS estimate...\n",
      "\n",
      "Begin XPASS estimate...\n",
      "\n",
      "Begin XPASS estimate...\n",
      "\n"
     ]
    },
    {
     "name": "stdout",
     "output_type": "stream",
     "text": [
      "Trait 2 has been analyzed.\n"
     ]
    },
    {
     "name": "stderr",
     "output_type": "stream",
     "text": [
      "The reference data set has 1313833 lines.\n",
      "\n",
      "Group the SNPs in summary statistics data...\n",
      "\n",
      "Remove missing data and merge the reference data with summary statistics data..., remaining 1011616 SNPs.\n",
      "\n",
      "Merge the summary statistics data with reference data..., remaining 1011616 SNPs.\n",
      "\n",
      "Begin XPASS estimate...\n",
      "\n",
      "Begin XPASS estimate...\n",
      "\n",
      "Begin XPASS estimate...\n",
      "\n",
      "Begin XPASS estimate...\n",
      "\n"
     ]
    },
    {
     "name": "stdout",
     "output_type": "stream",
     "text": [
      "Trait 3 has been analyzed.\n"
     ]
    },
    {
     "name": "stderr",
     "output_type": "stream",
     "text": [
      "The reference data set has 1313833 lines.\n",
      "\n",
      "Group the SNPs in summary statistics data...\n",
      "\n",
      "Remove missing data and merge the reference data with summary statistics data..., remaining 1022358 SNPs.\n",
      "\n",
      "Merge the summary statistics data with reference data..., remaining 1022358 SNPs.\n",
      "\n",
      "Begin XPASS estimate...\n",
      "\n",
      "Begin XPASS estimate...\n",
      "\n",
      "Begin XPASS estimate...\n",
      "\n",
      "Begin XPASS estimate...\n",
      "\n"
     ]
    },
    {
     "name": "stdout",
     "output_type": "stream",
     "text": [
      "Trait 4 has been analyzed.\n"
     ]
    },
    {
     "name": "stderr",
     "output_type": "stream",
     "text": [
      "The reference data set has 1313833 lines.\n",
      "\n",
      "Group the SNPs in summary statistics data...\n",
      "\n",
      "Remove missing data and merge the reference data with summary statistics data..., remaining 1022473 SNPs.\n",
      "\n",
      "Merge the summary statistics data with reference data..., remaining 1022473 SNPs.\n",
      "\n",
      "Begin XPASS estimate...\n",
      "\n",
      "Begin XPASS estimate...\n",
      "\n",
      "Begin XPASS estimate...\n",
      "\n",
      "Begin XPASS estimate...\n",
      "\n"
     ]
    },
    {
     "name": "stdout",
     "output_type": "stream",
     "text": [
      "Trait 5 has been analyzed.\n"
     ]
    },
    {
     "name": "stderr",
     "output_type": "stream",
     "text": [
      "The reference data set has 1313833 lines.\n",
      "\n",
      "Group the SNPs in summary statistics data...\n",
      "\n",
      "Remove missing data and merge the reference data with summary statistics data..., remaining 1011382 SNPs.\n",
      "\n",
      "Merge the summary statistics data with reference data..., remaining 1011382 SNPs.\n",
      "\n",
      "Begin XPASS estimate...\n",
      "\n",
      "Begin XPASS estimate...\n",
      "\n",
      "Begin XPASS estimate...\n",
      "\n",
      "Begin XPASS estimate...\n",
      "\n"
     ]
    },
    {
     "name": "stdout",
     "output_type": "stream",
     "text": [
      "Trait 6 has been analyzed.\n"
     ]
    },
    {
     "name": "stderr",
     "output_type": "stream",
     "text": [
      "The reference data set has 1313833 lines.\n",
      "\n",
      "Group the SNPs in summary statistics data...\n",
      "\n",
      "Remove missing data and merge the reference data with summary statistics data..., remaining 1011899 SNPs.\n",
      "\n",
      "Merge the summary statistics data with reference data..., remaining 1011899 SNPs.\n",
      "\n",
      "Begin XPASS estimate...\n",
      "\n",
      "Begin XPASS estimate...\n",
      "\n",
      "Begin XPASS estimate...\n",
      "\n",
      "Begin XPASS estimate...\n",
      "\n"
     ]
    },
    {
     "name": "stdout",
     "output_type": "stream",
     "text": [
      "Trait 7 has been analyzed.\n"
     ]
    },
    {
     "name": "stderr",
     "output_type": "stream",
     "text": [
      "The reference data set has 1313833 lines.\n",
      "\n",
      "Group the SNPs in summary statistics data...\n",
      "\n",
      "Remove missing data and merge the reference data with summary statistics data..., remaining 1011899 SNPs.\n",
      "\n",
      "Merge the summary statistics data with reference data..., remaining 1011899 SNPs.\n",
      "\n",
      "Begin XPASS estimate...\n",
      "\n",
      "Begin XPASS estimate...\n",
      "\n",
      "Begin XPASS estimate...\n",
      "\n",
      "Begin XPASS estimate...\n",
      "\n"
     ]
    },
    {
     "name": "stdout",
     "output_type": "stream",
     "text": [
      "Trait 8 has been analyzed.\n"
     ]
    },
    {
     "name": "stderr",
     "output_type": "stream",
     "text": [
      "The reference data set has 1313833 lines.\n",
      "\n",
      "Group the SNPs in summary statistics data...\n",
      "\n",
      "Remove missing data and merge the reference data with summary statistics data..., remaining 1011899 SNPs.\n",
      "\n",
      "Merge the summary statistics data with reference data..., remaining 1011899 SNPs.\n",
      "\n",
      "Begin XPASS estimate...\n",
      "\n",
      "Begin XPASS estimate...\n",
      "\n",
      "Begin XPASS estimate...\n",
      "\n",
      "Begin XPASS estimate...\n",
      "\n"
     ]
    },
    {
     "name": "stdout",
     "output_type": "stream",
     "text": [
      "Trait 9 has been analyzed.\n"
     ]
    },
    {
     "name": "stderr",
     "output_type": "stream",
     "text": [
      "The reference data set has 1313833 lines.\n",
      "\n",
      "Group the SNPs in summary statistics data...\n",
      "\n",
      "Remove missing data and merge the reference data with summary statistics data..., remaining 1011134 SNPs.\n",
      "\n",
      "Merge the summary statistics data with reference data..., remaining 1011134 SNPs.\n",
      "\n",
      "Begin XPASS estimate...\n",
      "\n",
      "Begin XPASS estimate...\n",
      "\n",
      "Begin XPASS estimate...\n",
      "\n",
      "Begin XPASS estimate...\n",
      "\n"
     ]
    },
    {
     "name": "stdout",
     "output_type": "stream",
     "text": [
      "Trait 10 has been analyzed.\n"
     ]
    }
   ],
   "source": [
    "# XPASS result\n",
    "xpass_list <- list()\n",
    "xpass_cov_list <- list()\n",
    "xpass_cov_5pc_list <- list()\n",
    "xpass_cov_10pc_list <- list()\n",
    "\n",
    "# XPASS\n",
    "for(i in 1:length(trait_name)){\n",
    "    sumstats <- read_delim(format_name[i], show_col_types = FALSE)\n",
    "    \n",
    "    # format reference data and summary statistics data\n",
    "    xpass_data <- format_ref(X_ref, sumstats, group = snp_group)\n",
    "    z <- xpass_data$z\n",
    "    X <- xpass_data$X\n",
    "    X <- scale(X) / sqrt(ncol(X))\n",
    "    K <- X %*% t(X)\n",
    "    \n",
    "    xpass_i <- xpass(z = pull(z, Z), K = K, n = pull(z, N), group = pull(z, GROUP))\n",
    "    xpass_list <- c(xpass_list, list(xpass_i))\n",
    "    \n",
    "    xpass_cov_i <- xpass(z = pull(z, Z), K = K, n = pull(z, N), Z = Z_cov, group = pull(z, GROUP))\n",
    "    xpass_cov_list <- c(xpass_cov_list, list(xpass_cov_i))\n",
    "    \n",
    "    xpass_cov_5pc_i <- xpass(z = pull(z, Z), K = K, n = pull(z, N), Z = Z_cov_5pc, group = pull(z, GROUP))\n",
    "    xpass_cov_5pc_list <- c(xpass_cov_5pc_list, list(xpass_cov_5pc_i))\n",
    "    \n",
    "    xpass_cov_10pc_i <- xpass(z = pull(z, Z), K = K, n = pull(z, N), Z = Z_cov_10pc, group = pull(z, GROUP))\n",
    "    xpass_cov_10pc_list <- c(xpass_cov_10pc_list, list(xpass_cov_10pc_i))\n",
    "    \n",
    "    cat(\"Trait\", i, \"has been analyzed.\\n\")\n",
    "}"
   ]
  },
  {
   "cell_type": "code",
   "execution_count": 7,
   "id": "02666235",
   "metadata": {},
   "outputs": [
    {
     "data": {
      "text/html": [
       "<table class=\"dataframe\">\n",
       "<caption>A matrix: 10 × 9 of type chr</caption>\n",
       "<thead>\n",
       "\t<tr><th scope=col>Trait</th><th scope=col>h2</th><th scope=col>se</th><th scope=col>h2_cov</th><th scope=col>se_cov</th><th scope=col>h2_cov_5pc</th><th scope=col>se_cov_5pc</th><th scope=col>h2_cov_10pc</th><th scope=col>se_cov_10pc</th></tr>\n",
       "</thead>\n",
       "<tbody>\n",
       "\t<tr><td>Angina      </td><td>0.015</td><td>1e-06   </td><td>0.023</td><td>2e-06   </td><td>0.024</td><td>2e-06   </td><td>0.025</td><td>2e-06   </td></tr>\n",
       "\t<tr><td>BMI         </td><td>0.148</td><td>1.9e-05 </td><td>0.237</td><td>4.8e-05 </td><td>0.245</td><td>5.1e-05 </td><td>0.252</td><td>5.4e-05 </td></tr>\n",
       "\t<tr><td>Depression  </td><td>0.03 </td><td>1e-06   </td><td>0.047</td><td>4e-06   </td><td>0.049</td><td>4e-06   </td><td>0.05 </td><td>4e-06   </td></tr>\n",
       "\t<tr><td>Hair        </td><td>0.083</td><td>3.8e-05 </td><td>0.133</td><td>9.8e-05 </td><td>0.138</td><td>0.000104</td><td>0.142</td><td>0.00011 </td></tr>\n",
       "\t<tr><td>HBP         </td><td>0.08 </td><td>6e-06   </td><td>0.128</td><td>1.6e-05 </td><td>0.132</td><td>1.7e-05 </td><td>0.136</td><td>1.8e-05 </td></tr>\n",
       "\t<tr><td>Height      </td><td>0.341</td><td>0.000157</td><td>0.544</td><td>4e-04   </td><td>0.563</td><td>0.000428</td><td>0.578</td><td>0.000452</td></tr>\n",
       "\t<tr><td>Income      </td><td>0.048</td><td>3e-06   </td><td>0.077</td><td>7e-06   </td><td>0.08 </td><td>7e-06   </td><td>0.082</td><td>7e-06   </td></tr>\n",
       "\t<tr><td>Intelligence</td><td>0.118</td><td>2.6e-05 </td><td>0.188</td><td>6.7e-05 </td><td>0.195</td><td>7.1e-05 </td><td>0.2  </td><td>7.5e-05 </td></tr>\n",
       "\t<tr><td>MDD         </td><td>0.008</td><td>1e-06   </td><td>0.013</td><td>2e-06   </td><td>0.013</td><td>2e-06   </td><td>0.014</td><td>2e-06   </td></tr>\n",
       "\t<tr><td>Tanning     </td><td>0.127</td><td>7.8e-05 </td><td>0.203</td><td>0.000199</td><td>0.21 </td><td>0.000213</td><td>0.216</td><td>0.000225</td></tr>\n",
       "</tbody>\n",
       "</table>\n"
      ],
      "text/latex": [
       "A matrix: 10 × 9 of type chr\n",
       "\\begin{tabular}{lllllllll}\n",
       " Trait & h2 & se & h2\\_cov & se\\_cov & h2\\_cov\\_5pc & se\\_cov\\_5pc & h2\\_cov\\_10pc & se\\_cov\\_10pc\\\\\n",
       "\\hline\n",
       "\t Angina       & 0.015 & 1e-06    & 0.023 & 2e-06    & 0.024 & 2e-06    & 0.025 & 2e-06   \\\\\n",
       "\t BMI          & 0.148 & 1.9e-05  & 0.237 & 4.8e-05  & 0.245 & 5.1e-05  & 0.252 & 5.4e-05 \\\\\n",
       "\t Depression   & 0.03  & 1e-06    & 0.047 & 4e-06    & 0.049 & 4e-06    & 0.05  & 4e-06   \\\\\n",
       "\t Hair         & 0.083 & 3.8e-05  & 0.133 & 9.8e-05  & 0.138 & 0.000104 & 0.142 & 0.00011 \\\\\n",
       "\t HBP          & 0.08  & 6e-06    & 0.128 & 1.6e-05  & 0.132 & 1.7e-05  & 0.136 & 1.8e-05 \\\\\n",
       "\t Height       & 0.341 & 0.000157 & 0.544 & 4e-04    & 0.563 & 0.000428 & 0.578 & 0.000452\\\\\n",
       "\t Income       & 0.048 & 3e-06    & 0.077 & 7e-06    & 0.08  & 7e-06    & 0.082 & 7e-06   \\\\\n",
       "\t Intelligence & 0.118 & 2.6e-05  & 0.188 & 6.7e-05  & 0.195 & 7.1e-05  & 0.2   & 7.5e-05 \\\\\n",
       "\t MDD          & 0.008 & 1e-06    & 0.013 & 2e-06    & 0.013 & 2e-06    & 0.014 & 2e-06   \\\\\n",
       "\t Tanning      & 0.127 & 7.8e-05  & 0.203 & 0.000199 & 0.21  & 0.000213 & 0.216 & 0.000225\\\\\n",
       "\\end{tabular}\n"
      ],
      "text/markdown": [
       "\n",
       "A matrix: 10 × 9 of type chr\n",
       "\n",
       "| Trait | h2 | se | h2_cov | se_cov | h2_cov_5pc | se_cov_5pc | h2_cov_10pc | se_cov_10pc |\n",
       "|---|---|---|---|---|---|---|---|---|\n",
       "| Angina       | 0.015 | 1e-06    | 0.023 | 2e-06    | 0.024 | 2e-06    | 0.025 | 2e-06    |\n",
       "| BMI          | 0.148 | 1.9e-05  | 0.237 | 4.8e-05  | 0.245 | 5.1e-05  | 0.252 | 5.4e-05  |\n",
       "| Depression   | 0.03  | 1e-06    | 0.047 | 4e-06    | 0.049 | 4e-06    | 0.05  | 4e-06    |\n",
       "| Hair         | 0.083 | 3.8e-05  | 0.133 | 9.8e-05  | 0.138 | 0.000104 | 0.142 | 0.00011  |\n",
       "| HBP          | 0.08  | 6e-06    | 0.128 | 1.6e-05  | 0.132 | 1.7e-05  | 0.136 | 1.8e-05  |\n",
       "| Height       | 0.341 | 0.000157 | 0.544 | 4e-04    | 0.563 | 0.000428 | 0.578 | 0.000452 |\n",
       "| Income       | 0.048 | 3e-06    | 0.077 | 7e-06    | 0.08  | 7e-06    | 0.082 | 7e-06    |\n",
       "| Intelligence | 0.118 | 2.6e-05  | 0.188 | 6.7e-05  | 0.195 | 7.1e-05  | 0.2   | 7.5e-05  |\n",
       "| MDD          | 0.008 | 1e-06    | 0.013 | 2e-06    | 0.013 | 2e-06    | 0.014 | 2e-06    |\n",
       "| Tanning      | 0.127 | 7.8e-05  | 0.203 | 0.000199 | 0.21  | 0.000213 | 0.216 | 0.000225 |\n",
       "\n"
      ],
      "text/plain": [
       "      Trait        h2    se       h2_cov se_cov   h2_cov_5pc se_cov_5pc\n",
       " [1,] Angina       0.015 1e-06    0.023  2e-06    0.024      2e-06     \n",
       " [2,] BMI          0.148 1.9e-05  0.237  4.8e-05  0.245      5.1e-05   \n",
       " [3,] Depression   0.03  1e-06    0.047  4e-06    0.049      4e-06     \n",
       " [4,] Hair         0.083 3.8e-05  0.133  9.8e-05  0.138      0.000104  \n",
       " [5,] HBP          0.08  6e-06    0.128  1.6e-05  0.132      1.7e-05   \n",
       " [6,] Height       0.341 0.000157 0.544  4e-04    0.563      0.000428  \n",
       " [7,] Income       0.048 3e-06    0.077  7e-06    0.08       7e-06     \n",
       " [8,] Intelligence 0.118 2.6e-05  0.188  6.7e-05  0.195      7.1e-05   \n",
       " [9,] MDD          0.008 1e-06    0.013  2e-06    0.013      2e-06     \n",
       "[10,] Tanning      0.127 7.8e-05  0.203  0.000199 0.21       0.000213  \n",
       "      h2_cov_10pc se_cov_10pc\n",
       " [1,] 0.025       2e-06      \n",
       " [2,] 0.252       5.4e-05    \n",
       " [3,] 0.05        4e-06      \n",
       " [4,] 0.142       0.00011    \n",
       " [5,] 0.136       1.8e-05    \n",
       " [6,] 0.578       0.000452   \n",
       " [7,] 0.082       7e-06      \n",
       " [8,] 0.2         7.5e-05    \n",
       " [9,] 0.014       2e-06      \n",
       "[10,] 0.216       0.000225   "
      ]
     },
     "metadata": {},
     "output_type": "display_data"
    }
   ],
   "source": [
    "xpass <- t(sapply(xpass_list,\n",
    "                  FUN = function(x){c(h2 = round(x$h2, 3), se = round(x$se, 6))}))\n",
    "xpass_cov <- t(sapply(xpass_cov_list,\n",
    "                      FUN = function(x){c(h2_cov = round(x$h2, 3), se_cov = round(x$se, 6))}))\n",
    "xpass_cov_5pc <- t(sapply(xpass_cov_5pc_list,\n",
    "                          FUN = function(x){c(h2_cov_5pc = round(x$h2, 3), se_cov_5pc = round(x$se, 6))}))\n",
    "xpass_cov_10pc <- t(sapply(xpass_cov_10pc_list,\n",
    "                           FUN = function(x){c(h2_cov_10pc = round(x$h2, 3), se_cov_10pc = round(x$se, 6))}))\n",
    "\n",
    "xpass <- cbind(Trait = trait_name, xpass, xpass_cov, xpass_cov_5pc, xpass_cov_10pc)\n",
    "xpass"
   ]
  },
  {
   "cell_type": "code",
   "execution_count": 8,
   "id": "cf333c85",
   "metadata": {},
   "outputs": [],
   "source": [
    "save(xpass, file = \"out/xpass.rda\")"
   ]
  }
 ],
 "metadata": {
  "kernelspec": {
   "display_name": "R",
   "language": "R",
   "name": "ir"
  },
  "language_info": {
   "codemirror_mode": "r",
   "file_extension": ".r",
   "mimetype": "text/x-r-source",
   "name": "R",
   "pygments_lexer": "r",
   "version": "4.0.5"
  }
 },
 "nbformat": 4,
 "nbformat_minor": 5
}
